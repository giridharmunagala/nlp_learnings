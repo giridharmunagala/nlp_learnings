{
 "cells": [
  {
   "cell_type": "markdown",
   "metadata": {},
   "source": [
    "# Text Classification using embeddings\n",
    "\n",
    "In the last notebook, we created Word2Vec based skip-gram embeddings. Which we observed to be preserving relations to some extent using TSNE plot. This notebook we will focus on creating a deep learning classifier using embeddings as the input"
   ]
  },
  {
   "cell_type": "markdown",
   "metadata": {},
   "source": [
    "## Imports"
   ]
  },
  {
   "cell_type": "code",
   "execution_count": 130,
   "metadata": {},
   "outputs": [],
   "source": [
    "import pandas as pd\n",
    "import tensorflow as tf\n",
    "import tensorflow.keras.layers as layers\n",
    "from tensorflow.keras import Sequential\n",
    "import tensorflow.keras as keras\n",
    "import torch\n",
    "import numpy as np\n",
    "import pickle\n",
    "from tensorflow.data import Dataset\n",
    "import tensorflow.data as tf_data\n",
    "from torch.utils.data import Dataset, DataLoader\n",
    "import torch.nn as nn\n",
    "import torch.nn.functional as F\n",
    "from sklearn.model_selection import train_test_split\n",
    "from torch.optim import Adam\n",
    "from tqdm.notebook import tqdm\n"
   ]
  },
  {
   "cell_type": "code",
   "execution_count": 131,
   "metadata": {},
   "outputs": [
    {
     "data": {
      "text/plain": [
       "True"
      ]
     },
     "execution_count": 131,
     "metadata": {},
     "output_type": "execute_result"
    }
   ],
   "source": [
    "torch.cuda.is_available()"
   ]
  },
  {
   "cell_type": "code",
   "execution_count": 132,
   "metadata": {},
   "outputs": [],
   "source": [
    "device = torch.device(\"cuda\")"
   ]
  },
  {
   "cell_type": "markdown",
   "metadata": {},
   "source": [
    "## Loading data"
   ]
  },
  {
   "cell_type": "code",
   "execution_count": 133,
   "metadata": {},
   "outputs": [],
   "source": [
    "train_df = pd.read_csv('../data/nlp-getting-started/train.csv')\n",
    "test_df = pd.read_csv('../data/nlp-getting-started/test.csv')"
   ]
  },
  {
   "cell_type": "code",
   "execution_count": 134,
   "metadata": {},
   "outputs": [
    {
     "data": {
      "text/html": [
       "<div>\n",
       "<style scoped>\n",
       "    .dataframe tbody tr th:only-of-type {\n",
       "        vertical-align: middle;\n",
       "    }\n",
       "\n",
       "    .dataframe tbody tr th {\n",
       "        vertical-align: top;\n",
       "    }\n",
       "\n",
       "    .dataframe thead th {\n",
       "        text-align: right;\n",
       "    }\n",
       "</style>\n",
       "<table border=\"1\" class=\"dataframe\">\n",
       "  <thead>\n",
       "    <tr style=\"text-align: right;\">\n",
       "      <th></th>\n",
       "      <th>id</th>\n",
       "      <th>keyword</th>\n",
       "      <th>location</th>\n",
       "      <th>text</th>\n",
       "      <th>target</th>\n",
       "    </tr>\n",
       "  </thead>\n",
       "  <tbody>\n",
       "    <tr>\n",
       "      <th>0</th>\n",
       "      <td>1</td>\n",
       "      <td>NaN</td>\n",
       "      <td>NaN</td>\n",
       "      <td>Our Deeds are the Reason of this #earthquake M...</td>\n",
       "      <td>1</td>\n",
       "    </tr>\n",
       "    <tr>\n",
       "      <th>1</th>\n",
       "      <td>4</td>\n",
       "      <td>NaN</td>\n",
       "      <td>NaN</td>\n",
       "      <td>Forest fire near La Ronge Sask. Canada</td>\n",
       "      <td>1</td>\n",
       "    </tr>\n",
       "    <tr>\n",
       "      <th>2</th>\n",
       "      <td>5</td>\n",
       "      <td>NaN</td>\n",
       "      <td>NaN</td>\n",
       "      <td>All residents asked to 'shelter in place' are ...</td>\n",
       "      <td>1</td>\n",
       "    </tr>\n",
       "    <tr>\n",
       "      <th>3</th>\n",
       "      <td>6</td>\n",
       "      <td>NaN</td>\n",
       "      <td>NaN</td>\n",
       "      <td>13,000 people receive #wildfires evacuation or...</td>\n",
       "      <td>1</td>\n",
       "    </tr>\n",
       "    <tr>\n",
       "      <th>4</th>\n",
       "      <td>7</td>\n",
       "      <td>NaN</td>\n",
       "      <td>NaN</td>\n",
       "      <td>Just got sent this photo from Ruby #Alaska as ...</td>\n",
       "      <td>1</td>\n",
       "    </tr>\n",
       "  </tbody>\n",
       "</table>\n",
       "</div>"
      ],
      "text/plain": [
       "   id keyword location                                               text  \\\n",
       "0   1     NaN      NaN  Our Deeds are the Reason of this #earthquake M...   \n",
       "1   4     NaN      NaN             Forest fire near La Ronge Sask. Canada   \n",
       "2   5     NaN      NaN  All residents asked to 'shelter in place' are ...   \n",
       "3   6     NaN      NaN  13,000 people receive #wildfires evacuation or...   \n",
       "4   7     NaN      NaN  Just got sent this photo from Ruby #Alaska as ...   \n",
       "\n",
       "   target  \n",
       "0       1  \n",
       "1       1  \n",
       "2       1  \n",
       "3       1  \n",
       "4       1  "
      ]
     },
     "execution_count": 134,
     "metadata": {},
     "output_type": "execute_result"
    }
   ],
   "source": [
    "train_df.head()"
   ]
  },
  {
   "cell_type": "code",
   "execution_count": 135,
   "metadata": {},
   "outputs": [
    {
     "name": "stdout",
     "output_type": "stream",
     "text": [
      "<class 'pandas.core.frame.DataFrame'>\n",
      "RangeIndex: 7613 entries, 0 to 7612\n",
      "Data columns (total 5 columns):\n",
      " #   Column    Non-Null Count  Dtype \n",
      "---  ------    --------------  ----- \n",
      " 0   id        7613 non-null   int64 \n",
      " 1   keyword   7552 non-null   object\n",
      " 2   location  5080 non-null   object\n",
      " 3   text      7613 non-null   object\n",
      " 4   target    7613 non-null   int64 \n",
      "dtypes: int64(2), object(3)\n",
      "memory usage: 297.5+ KB\n"
     ]
    }
   ],
   "source": [
    "train_df.info()"
   ]
  },
  {
   "cell_type": "markdown",
   "metadata": {},
   "source": [
    "## Loading Text encoder"
   ]
  },
  {
   "cell_type": "code",
   "execution_count": 136,
   "metadata": {},
   "outputs": [],
   "source": [
    "@keras.saving.register_keras_serializable()\n",
    "def standardize(input_data):\n",
    "  lower_cased = tf.strings.lower(input_data)\n",
    "  return tf.strings.regex_replace(lower_cased,'[^a-z0-9#\\s]', '')\n",
    "\n",
    "with open('../data/nlp-getting-started/text_vectorizer.pckl','rb') as file:\n",
    "    text_encoder = pickle.load(file)"
   ]
  },
  {
   "cell_type": "code",
   "execution_count": 137,
   "metadata": {},
   "outputs": [],
   "source": [
    "text_encoder['config']['standardize'] = tf.keras.utils.serialize_keras_object(standardize,)"
   ]
  },
  {
   "cell_type": "code",
   "execution_count": 138,
   "metadata": {},
   "outputs": [],
   "source": [
    "encoding_layer = layers.TextVectorization.from_config(text_encoder['config'])"
   ]
  },
  {
   "cell_type": "code",
   "execution_count": 139,
   "metadata": {},
   "outputs": [],
   "source": [
    "encoding_layer.set_weights(text_encoder['weights'])"
   ]
  },
  {
   "cell_type": "code",
   "execution_count": 140,
   "metadata": {},
   "outputs": [
    {
     "data": {
      "text/plain": [
       "['', '[UNK]', 'the', 'a', 'in', 'to', 'of', 'and', 'i', 'is']"
      ]
     },
     "execution_count": 140,
     "metadata": {},
     "output_type": "execute_result"
    }
   ],
   "source": [
    "encoding_layer.get_vocabulary()[:10]"
   ]
  },
  {
   "cell_type": "markdown",
   "metadata": {},
   "source": [
    "## Loading embedding model"
   ]
  },
  {
   "cell_type": "code",
   "execution_count": 141,
   "metadata": {},
   "outputs": [],
   "source": [
    "class Word2Vec(tf.keras.Model):\n",
    "  def __init__(self, vocab_size, embedding_dim):\n",
    "    super(Word2Vec, self).__init__()\n",
    "    self.target_embedding = layers.Embedding(vocab_size,\n",
    "                                      embedding_dim,\n",
    "                                      input_length=1,\n",
    "                                      name=\"w2v_embedding\")\n",
    "    self.context_embedding = layers.Embedding(vocab_size,\n",
    "                                       embedding_dim,\n",
    "                                       input_length=5)\n",
    "\n",
    "  def call(self, pair):\n",
    "    target, context = pair\n",
    "    # target: (batch, dummy?)  # The dummy axis doesn't exist in TF2.7+\n",
    "    # context: (batch, context)\n",
    "    if len(target.shape) == 2:\n",
    "      target = tf.squeeze(target, axis=1)\n",
    "    # target: (batch,)\n",
    "    word_emb = self.target_embedding(target)\n",
    "    # word_emb: (batch, embed)\n",
    "    context_emb = self.context_embedding(context)\n",
    "    # context_emb: (batch, context, embed)\n",
    "    dots = tf.einsum('be,bce->bc', word_emb, context_emb)\n",
    "    # dots: (batch, context)\n",
    "    return dots"
   ]
  },
  {
   "cell_type": "code",
   "execution_count": 142,
   "metadata": {},
   "outputs": [],
   "source": [
    "word2vec = keras.models.load_model('../data/nlp-getting-started/word2vec_model/')"
   ]
  },
  {
   "cell_type": "code",
   "execution_count": 143,
   "metadata": {},
   "outputs": [],
   "source": [
    "weights = word2vec.get_layer('w2v_embedding').get_weights()[0]"
   ]
  },
  {
   "cell_type": "markdown",
   "metadata": {},
   "source": [
    "### Creating Pytorch dataset for training & evaluation"
   ]
  },
  {
   "cell_type": "code",
   "execution_count": 144,
   "metadata": {},
   "outputs": [],
   "source": [
    "class TextDataset(Dataset):\n",
    "    def __init__(self, texts, encoder, weight_matrix,ids=None, labels=None):\n",
    "        super(TextDataset, self).__init__()\n",
    "        self.labels = list(labels) if not labels is None else None\n",
    "        self.encoder = encoder\n",
    "        self.weight_matrix = weight_matrix\n",
    "        self.data = self._calculate_sent_vector(list(texts))\n",
    "        if not ids is None:\n",
    "            self.ids = list(ids)\n",
    "        else:\n",
    "            self.ids = None\n",
    "    def __len__(self):\n",
    "        return len(self.data)\n",
    "    \n",
    "    def _calculate_sent_vector(self,texts):\n",
    "        encoded_texts = encoding_layer(texts)\n",
    "        \n",
    "        return [torch.tensor(self.weight_matrix[encoded_text[encoded_text!=0]]) for encoded_text in encoded_texts]\n",
    "    \n",
    "    def __getitem__(self,idx):\n",
    "        embeddings = self.data[idx]\n",
    "        \n",
    "        if not self.labels is None:\n",
    "            labels = torch.tensor(self.labels[idx],dtype=torch.float) \n",
    "        else:\n",
    "            labels= torch.zeros(1)\n",
    "        if not self.ids is None:\n",
    "            ids = torch.tensor(self.ids[idx],dtype=torch.int64)\n",
    "        else:\n",
    "            ids = torch.zeros(1)\n",
    "        return embeddings, labels,ids\n",
    "        \n"
   ]
  },
  {
   "cell_type": "markdown",
   "metadata": {},
   "source": [
    "**Splitting train data into train & val**"
   ]
  },
  {
   "cell_type": "code",
   "execution_count": 201,
   "metadata": {},
   "outputs": [
    {
     "data": {
      "text/plain": [
       "target\n",
       "0    4342\n",
       "1    3271\n",
       "Name: count, dtype: int64"
      ]
     },
     "execution_count": 201,
     "metadata": {},
     "output_type": "execute_result"
    }
   ],
   "source": [
    "train_df['target'].value_counts()"
   ]
  },
  {
   "cell_type": "code",
   "execution_count": 202,
   "metadata": {},
   "outputs": [],
   "source": [
    "stratified_sampled = pd.concat([train_df[train_df['target'] == 0].sample(3271), train_df[train_df['target']==1]])"
   ]
  },
  {
   "cell_type": "code",
   "execution_count": 203,
   "metadata": {},
   "outputs": [],
   "source": [
    "X_train, X_val, y_train, y_val = train_test_split(stratified_sampled['text'], stratified_sampled['target'], \n",
    "                                                    test_size=0.2, random_state=42)"
   ]
  },
  {
   "cell_type": "code",
   "execution_count": 204,
   "metadata": {},
   "outputs": [],
   "source": [
    "train_dataset = TextDataset(texts=X_train, encoder=encoding_layer, weight_matrix=weights,labels=y_train)\n",
    "val_dataset = TextDataset(texts=X_val, encoder=encoding_layer, weight_matrix=weights,labels=y_val)"
   ]
  },
  {
   "cell_type": "code",
   "execution_count": 205,
   "metadata": {},
   "outputs": [],
   "source": [
    "\n",
    "def collate_fn(batch):\n",
    "    embeddings, labels, ids = zip(*batch)\n",
    "    embeddings = nn.utils.rnn.pad_sequence(embeddings, batch_first=True,padding_value=0)\n",
    "    return embeddings, torch.tensor(list(labels)), torch.tensor(list(ids))"
   ]
  },
  {
   "cell_type": "code",
   "execution_count": 206,
   "metadata": {},
   "outputs": [],
   "source": [
    "train_dataloader = DataLoader(train_dataset,batch_size=64,shuffle=True,collate_fn=collate_fn)\n",
    "val_dataloader = DataLoader(val_dataset,batch_size=64,shuffle=True,collate_fn=collate_fn)"
   ]
  },
  {
   "cell_type": "code",
   "execution_count": null,
   "metadata": {},
   "outputs": [],
   "source": []
  },
  {
   "cell_type": "code",
   "execution_count": 207,
   "metadata": {},
   "outputs": [
    {
     "name": "stdout",
     "output_type": "stream",
     "text": [
      "torch.Size([28, 100])\n",
      "torch.Size([28, 100])\n",
      "torch.Size([28, 100])\n"
     ]
    }
   ],
   "source": [
    "for val in train_dataloader:\n",
    "    print(val[0][0].shape)\n",
    "    print(val[0][1].shape)\n",
    "    print(val[0][2].shape)\n",
    "    break"
   ]
  },
  {
   "cell_type": "code",
   "execution_count": 208,
   "metadata": {},
   "outputs": [],
   "source": [
    "class TextClassifier(torch.nn.Module):\n",
    "    \"\"\"\n",
    "        A simple Fully connected classifier with 4 linear layers with 64, 32, 8, 2 nodes.\n",
    "        We extensively use Relu activation function.\n",
    "    \"\"\"\n",
    "    def __init__(self,batch_size=64, input_shape=100, hidden_size=32):\n",
    "        super(TextClassifier, self).__init__()\n",
    "        self.lstm = nn.LSTM( input_shape, hidden_size,num_layers=2,batch_first=True,dropout=0.4)\n",
    "        self.linear1 = nn.Linear(in_features=hidden_size,out_features=hidden_size//2)\n",
    "        self.linear2 = nn.Linear(in_features=hidden_size//2,out_features=hidden_size//4)\n",
    "        self.linear3 = nn.Linear(in_features=hidden_size//4,out_features=1)\n",
    "        self.relu = nn.ReLU()\n",
    "\n",
    "    def forward(self, x):\n",
    "        out,_ = self.lstm(x)\n",
    "        # As we are only doing classification of entire sequence, we don't need intermediate hidden states. We will take the last hidden state.\n",
    "        out = out[:,-1,:]\n",
    "        out = self.relu(self.linear1(out))\n",
    "        out = self.relu(self.linear2(out))\n",
    "        out = self.linear3(out)\n",
    "        return out"
   ]
  },
  {
   "cell_type": "code",
   "execution_count": 209,
   "metadata": {},
   "outputs": [],
   "source": [
    "text_classifier = TextClassifier()"
   ]
  },
  {
   "cell_type": "code",
   "execution_count": 210,
   "metadata": {},
   "outputs": [
    {
     "data": {
      "text/plain": [
       "TextClassifier(\n",
       "  (lstm): LSTM(100, 32, num_layers=2, batch_first=True, dropout=0.4)\n",
       "  (linear1): Linear(in_features=32, out_features=16, bias=True)\n",
       "  (linear2): Linear(in_features=16, out_features=8, bias=True)\n",
       "  (linear3): Linear(in_features=8, out_features=1, bias=True)\n",
       "  (relu): ReLU()\n",
       ")"
      ]
     },
     "execution_count": 210,
     "metadata": {},
     "output_type": "execute_result"
    }
   ],
   "source": [
    "text_classifier.to(device)"
   ]
  },
  {
   "cell_type": "code",
   "execution_count": 211,
   "metadata": {},
   "outputs": [],
   "source": [
    "criterion = nn.BCEWithLogitsLoss()\n",
    "optimizer = Adam(text_classifier.parameters(), lr=0.0001)"
   ]
  },
  {
   "cell_type": "code",
   "execution_count": 212,
   "metadata": {},
   "outputs": [],
   "source": [
    "num_epochs = 50"
   ]
  },
  {
   "cell_type": "code",
   "execution_count": 213,
   "metadata": {},
   "outputs": [
    {
     "data": {
      "application/vnd.jupyter.widget-view+json": {
       "model_id": "1af73be015f84cb59e990e0545505a3f",
       "version_major": 2,
       "version_minor": 0
      },
      "text/plain": [
       "  0%|          | 0/50 [00:00<?, ?it/s]"
      ]
     },
     "metadata": {},
     "output_type": "display_data"
    },
    {
     "name": "stdout",
     "output_type": "stream",
     "text": [
      "  batch 30 loss: 0.7017097036043803\n",
      "Val  batch 10 loss: 0.6904961466789246\n",
      "Val  batch 20 loss: 0.7026407122612\n",
      "  batch 60 loss: 0.6996401965618133\n",
      "Val  batch 10 loss: 0.69944828748703\n",
      "Val  batch 20 loss: 0.6915953755378723\n",
      "  batch 30 loss: 0.7021649857362111\n",
      "Val  batch 10 loss: 0.6955068111419678\n",
      "Val  batch 20 loss: 0.6931562423706055\n",
      "  batch 60 loss: 0.6964559952418009\n",
      "Val  batch 10 loss: 0.6960697174072266\n",
      "Val  batch 20 loss: 0.6928238272666931\n",
      "  batch 30 loss: 0.6946745872497558\n",
      "Val  batch 10 loss: 0.695231556892395\n",
      "Val  batch 20 loss: 0.6914798021316528\n",
      "  batch 60 loss: 0.6958867569764455\n",
      "Val  batch 10 loss: 0.6921626925468445\n",
      "Val  batch 20 loss: 0.6945117712020874\n",
      "  batch 30 loss: 0.6949108938376108\n",
      "Val  batch 10 loss: 0.691987156867981\n",
      "Val  batch 20 loss: 0.6928849816322327\n",
      "  batch 60 loss: 0.692738950252533\n",
      "Val  batch 10 loss: 0.692539393901825\n",
      "Val  batch 20 loss: 0.6922317743301392\n",
      "  batch 30 loss: 0.6910237431526184\n",
      "Val  batch 10 loss: 0.6898125410079956\n",
      "Val  batch 20 loss: 0.6899177432060242\n",
      "  batch 60 loss: 0.6890902141729991\n",
      "Val  batch 10 loss: 0.6875385642051697\n",
      "Val  batch 20 loss: 0.6863785982131958\n",
      "  batch 30 loss: 0.6752513984839121\n",
      "Val  batch 10 loss: 0.6730942130088806\n",
      "Val  batch 20 loss: 0.6734105944633484\n",
      "  batch 60 loss: 0.6627631704012553\n",
      "Val  batch 10 loss: 0.6605743765830994\n",
      "Val  batch 20 loss: 0.6602981686592102\n",
      "  batch 30 loss: 0.639347509543101\n",
      "Val  batch 10 loss: 0.6353654861450195\n",
      "Val  batch 20 loss: 0.6423306465148926\n",
      "  batch 60 loss: 0.6301661829153696\n",
      "Val  batch 10 loss: 0.6299679279327393\n",
      "Val  batch 20 loss: 0.6255449652671814\n",
      "  batch 30 loss: 0.608702274163564\n",
      "Val  batch 10 loss: 0.6048628091812134\n",
      "Val  batch 20 loss: 0.620643675327301\n",
      "  batch 60 loss: 0.6095962444941203\n",
      "Val  batch 10 loss: 0.620108425617218\n",
      "Val  batch 20 loss: 0.5963171720504761\n",
      "  batch 30 loss: 0.5771291414896648\n",
      "Val  batch 10 loss: 0.6242546439170837\n",
      "Val  batch 20 loss: 0.6125110387802124\n",
      "  batch 60 loss: 0.5939692993958791\n",
      "Val  batch 10 loss: 0.5826160311698914\n",
      "Val  batch 20 loss: 0.6067579388618469\n",
      "  batch 30 loss: 0.5808636764685313\n",
      "Val  batch 10 loss: 0.6077460646629333\n",
      "Val  batch 20 loss: 0.5702695250511169\n",
      "  batch 60 loss: 0.5779523988564809\n",
      "Val  batch 10 loss: 0.5848474502563477\n",
      "Val  batch 20 loss: 0.6024808287620544\n",
      "  batch 30 loss: 0.5669413636128108\n",
      "Val  batch 10 loss: 0.6009363532066345\n",
      "Val  batch 20 loss: 0.5712392330169678\n",
      "  batch 60 loss: 0.5566543340682983\n",
      "Val  batch 10 loss: 0.5803139209747314\n",
      "Val  batch 20 loss: 0.590595006942749\n",
      "  batch 30 loss: 0.56672256787618\n",
      "Val  batch 10 loss: 0.5766250491142273\n",
      "Val  batch 20 loss: 0.5851996541023254\n",
      "  batch 60 loss: 0.5588043332099915\n",
      "Val  batch 10 loss: 0.5913609266281128\n",
      "Val  batch 20 loss: 0.5843740105628967\n",
      "  batch 30 loss: 0.5689399361610412\n",
      "Val  batch 10 loss: 0.5698869824409485\n",
      "Val  batch 20 loss: 0.5925372242927551\n",
      "  batch 60 loss: 0.5526424537102381\n",
      "Val  batch 10 loss: 0.576682984828949\n",
      "Val  batch 20 loss: 0.5666559934616089\n",
      "  batch 30 loss: 0.5685344427824021\n",
      "Val  batch 10 loss: 0.5685300230979919\n",
      "Val  batch 20 loss: 0.5811800956726074\n",
      "  batch 60 loss: 0.544853675365448\n",
      "Val  batch 10 loss: 0.5971304178237915\n",
      "Val  batch 20 loss: 0.553151547908783\n",
      "  batch 30 loss: 0.5451124866803487\n",
      "Val  batch 10 loss: 0.5822016596794128\n",
      "Val  batch 20 loss: 0.5778143405914307\n",
      "  batch 60 loss: 0.554064400990804\n",
      "Val  batch 10 loss: 0.566332995891571\n",
      "Val  batch 20 loss: 0.5648185610771179\n",
      "  batch 30 loss: 0.5508942325909932\n",
      "Val  batch 10 loss: 0.5565333962440491\n",
      "Val  batch 20 loss: 0.5956936478614807\n",
      "  batch 60 loss: 0.5375073472658793\n",
      "Val  batch 10 loss: 0.572131335735321\n",
      "Val  batch 20 loss: 0.5571007132530212\n",
      "  batch 30 loss: 0.5439229766527812\n",
      "Val  batch 10 loss: 0.5764625668525696\n",
      "Val  batch 20 loss: 0.5661391615867615\n",
      "  batch 60 loss: 0.5311061799526214\n",
      "Val  batch 10 loss: 0.558152973651886\n",
      "Val  batch 20 loss: 0.5650231838226318\n",
      "  batch 30 loss: 0.5467121611038844\n",
      "Val  batch 10 loss: 0.5453817844390869\n",
      "Val  batch 20 loss: 0.5745320916175842\n",
      "  batch 60 loss: 0.5375579714775085\n",
      "Val  batch 10 loss: 0.5646946430206299\n",
      "Val  batch 20 loss: 0.5736355185508728\n",
      "  batch 30 loss: 0.5518689841032028\n",
      "Val  batch 10 loss: 0.5821347236633301\n",
      "Val  batch 20 loss: 0.5519247055053711\n",
      "  batch 60 loss: 0.5198491821686427\n",
      "Val  batch 10 loss: 0.5607280135154724\n",
      "Val  batch 20 loss: 0.5869354605674744\n",
      "  batch 30 loss: 0.5219792316357295\n",
      "Val  batch 10 loss: 0.5628993511199951\n",
      "Val  batch 20 loss: 0.5680994987487793\n",
      "  batch 60 loss: 0.5348759412765502\n",
      "Val  batch 10 loss: 0.5537615418434143\n",
      "Val  batch 20 loss: 0.5632521510124207\n",
      "  batch 30 loss: 0.5322428693373998\n",
      "Val  batch 10 loss: 0.56430584192276\n",
      "Val  batch 20 loss: 0.5456957221031189\n",
      "  batch 60 loss: 0.5476416011651357\n",
      "Val  batch 10 loss: 0.5603712201118469\n",
      "Val  batch 20 loss: 0.5581715703010559\n",
      "  batch 30 loss: 0.5208048681418102\n",
      "Val  batch 10 loss: 0.5640556812286377\n",
      "Val  batch 20 loss: 0.5646588206291199\n",
      "  batch 60 loss: 0.518282750248909\n",
      "Val  batch 10 loss: 0.5673844218254089\n",
      "Val  batch 20 loss: 0.5442115068435669\n",
      "  batch 30 loss: 0.5389263302087783\n",
      "Val  batch 10 loss: 0.5395650267601013\n",
      "Val  batch 20 loss: 0.5755731463432312\n",
      "  batch 60 loss: 0.5279492507378261\n",
      "Val  batch 10 loss: 0.5478367209434509\n",
      "Val  batch 20 loss: 0.5615293979644775\n",
      "  batch 30 loss: 0.521204932530721\n",
      "Val  batch 10 loss: 0.5297976136207581\n",
      "Val  batch 20 loss: 0.5706850290298462\n",
      "  batch 60 loss: 0.5386151274045309\n",
      "Val  batch 10 loss: 0.5525527000427246\n",
      "Val  batch 20 loss: 0.5668980479240417\n",
      "  batch 30 loss: 0.5107613454262415\n",
      "Val  batch 10 loss: 0.5557116270065308\n",
      "Val  batch 20 loss: 0.5424774885177612\n",
      "  batch 60 loss: 0.5270137419303258\n",
      "Val  batch 10 loss: 0.5493221282958984\n",
      "Val  batch 20 loss: 0.5649727582931519\n",
      "  batch 30 loss: 0.512948535879453\n",
      "Val  batch 10 loss: 0.5766837000846863\n",
      "Val  batch 20 loss: 0.5376512408256531\n",
      "  batch 60 loss: 0.5309112439552943\n",
      "Val  batch 10 loss: 0.5514283776283264\n",
      "Val  batch 20 loss: 0.5635240077972412\n",
      "  batch 30 loss: 0.5154985358317693\n",
      "Val  batch 10 loss: 0.554327130317688\n",
      "Val  batch 20 loss: 0.5651170611381531\n",
      "  batch 60 loss: 0.5216566771268845\n",
      "Val  batch 10 loss: 0.5470879673957825\n",
      "Val  batch 20 loss: 0.5827265977859497\n",
      "  batch 30 loss: 0.5076989581187566\n",
      "Val  batch 10 loss: 0.5682517290115356\n",
      "Val  batch 20 loss: 0.5508036017417908\n",
      "  batch 60 loss: 0.5205847710371018\n",
      "Val  batch 10 loss: 0.5618771314620972\n",
      "Val  batch 20 loss: 0.5380694270133972\n",
      "  batch 30 loss: 0.5419876575469971\n",
      "Val  batch 10 loss: 0.5282070636749268\n",
      "Val  batch 20 loss: 0.5610391497612\n",
      "  batch 60 loss: 0.5059565742810567\n",
      "Val  batch 10 loss: 0.5655106902122498\n",
      "Val  batch 20 loss: 0.539730429649353\n",
      "  batch 30 loss: 0.5279093474149704\n",
      "Val  batch 10 loss: 0.5405199527740479\n",
      "Val  batch 20 loss: 0.5519256591796875\n",
      "  batch 60 loss: 0.5152034640312195\n",
      "Val  batch 10 loss: 0.5768396258354187\n",
      "Val  batch 20 loss: 0.5259732604026794\n",
      "  batch 30 loss: 0.5280716270208359\n",
      "Val  batch 10 loss: 0.5439305305480957\n",
      "Val  batch 20 loss: 0.5541653633117676\n",
      "  batch 60 loss: 0.5126157253980637\n",
      "Val  batch 10 loss: 0.5578516125679016\n",
      "Val  batch 20 loss: 0.5386425256729126\n",
      "  batch 30 loss: 0.5291359543800354\n",
      "Val  batch 10 loss: 0.5827296376228333\n",
      "Val  batch 20 loss: 0.5168940424919128\n",
      "  batch 60 loss: 0.5106848617394765\n",
      "Val  batch 10 loss: 0.5720372200012207\n",
      "Val  batch 20 loss: 0.5486312508583069\n",
      "  batch 30 loss: 0.5359797209501267\n",
      "Val  batch 10 loss: 0.5252610445022583\n",
      "Val  batch 20 loss: 0.5627781748771667\n",
      "  batch 60 loss: 0.5027017176151276\n",
      "Val  batch 10 loss: 0.5551276206970215\n",
      "Val  batch 20 loss: 0.5489607453346252\n",
      "  batch 30 loss: 0.520854311188062\n",
      "Val  batch 10 loss: 0.5546724200248718\n",
      "Val  batch 20 loss: 0.5499197840690613\n",
      "  batch 60 loss: 0.4995031456152598\n",
      "Val  batch 10 loss: 0.5370778441429138\n",
      "Val  batch 20 loss: 0.5466946959495544\n",
      "  batch 30 loss: 0.5054793725411098\n",
      "Val  batch 10 loss: 0.5525882244110107\n",
      "Val  batch 20 loss: 0.5484946370124817\n",
      "  batch 60 loss: 0.5038442174593608\n",
      "Val  batch 10 loss: 0.5782660245895386\n",
      "Val  batch 20 loss: 0.5036548972129822\n",
      "  batch 30 loss: 0.4976434181133906\n",
      "Val  batch 10 loss: 0.5393226146697998\n",
      "Val  batch 20 loss: 0.5453168749809265\n",
      "  batch 60 loss: 0.5258188704649608\n",
      "Val  batch 10 loss: 0.5499091148376465\n",
      "Val  batch 20 loss: 0.5385458469390869\n",
      "  batch 30 loss: 0.5067037552595138\n",
      "Val  batch 10 loss: 0.5275793075561523\n",
      "Val  batch 20 loss: 0.5527998208999634\n",
      "  batch 60 loss: 0.5016299953063329\n",
      "Val  batch 10 loss: 0.5591596961021423\n",
      "Val  batch 20 loss: 0.5387027859687805\n",
      "  batch 30 loss: 0.5105192591746648\n",
      "Val  batch 10 loss: 0.5383801460266113\n",
      "Val  batch 20 loss: 0.5353469848632812\n",
      "  batch 60 loss: 0.4879859904448191\n",
      "Val  batch 10 loss: 0.5562378168106079\n",
      "Val  batch 20 loss: 0.5477073192596436\n",
      "  batch 30 loss: 0.5004589388767878\n",
      "Val  batch 10 loss: 0.5353901982307434\n",
      "Val  batch 20 loss: 0.5711499452590942\n",
      "  batch 60 loss: 0.5049479961395263\n",
      "Val  batch 10 loss: 0.5194985270500183\n",
      "Val  batch 20 loss: 0.5707408785820007\n",
      "  batch 30 loss: 0.49579962293306984\n",
      "Val  batch 10 loss: 0.5094165205955505\n",
      "Val  batch 20 loss: 0.5816619992256165\n",
      "  batch 60 loss: 0.4889960676431656\n",
      "Val  batch 10 loss: 0.5326736569404602\n",
      "Val  batch 20 loss: 0.5520068407058716\n",
      "  batch 30 loss: 0.5000087807575861\n",
      "Val  batch 10 loss: 0.5327851176261902\n",
      "Val  batch 20 loss: 0.5474805235862732\n",
      "  batch 60 loss: 0.4993792126576106\n",
      "Val  batch 10 loss: 0.5319117903709412\n",
      "Val  batch 20 loss: 0.5528866648674011\n",
      "  batch 30 loss: 0.5014743407567342\n",
      "Val  batch 10 loss: 0.5416962504386902\n",
      "Val  batch 20 loss: 0.5407184958457947\n",
      "  batch 60 loss: 0.5106468389431635\n",
      "Val  batch 10 loss: 0.5352059602737427\n",
      "Val  batch 20 loss: 0.5353164672851562\n",
      "  batch 30 loss: 0.5029980192581812\n",
      "Val  batch 10 loss: 0.5447966456413269\n",
      "Val  batch 20 loss: 0.5567275285720825\n",
      "  batch 60 loss: 0.5020905603965123\n",
      "Val  batch 10 loss: 0.547970712184906\n",
      "Val  batch 20 loss: 0.5265135765075684\n",
      "  batch 30 loss: 0.49943377673625944\n",
      "Val  batch 10 loss: 0.534011721611023\n",
      "Val  batch 20 loss: 0.5331974625587463\n",
      "  batch 60 loss: 0.5010404934485754\n",
      "Val  batch 10 loss: 0.5485725998878479\n",
      "Val  batch 20 loss: 0.5183892846107483\n",
      "  batch 30 loss: 0.4856598218282064\n",
      "Val  batch 10 loss: 0.5372562408447266\n",
      "Val  batch 20 loss: 0.5534793734550476\n",
      "  batch 60 loss: 0.486610938111941\n",
      "Val  batch 10 loss: 0.5326780676841736\n",
      "Val  batch 20 loss: 0.538003146648407\n",
      "  batch 30 loss: 0.48579609096050264\n",
      "Val  batch 10 loss: 0.5479802489280701\n",
      "Val  batch 20 loss: 0.5347307920455933\n",
      "  batch 60 loss: 0.4971520443757375\n",
      "Val  batch 10 loss: 0.5203256607055664\n",
      "Val  batch 20 loss: 0.5529548525810242\n",
      "  batch 30 loss: 0.4861144493023554\n",
      "Val  batch 10 loss: 0.5190926194190979\n",
      "Val  batch 20 loss: 0.5489052534103394\n",
      "  batch 60 loss: 0.4894125233093897\n",
      "Val  batch 10 loss: 0.5626243948936462\n",
      "Val  batch 20 loss: 0.5172168016433716\n",
      "  batch 30 loss: 0.49325079123179116\n",
      "Val  batch 10 loss: 0.49768996238708496\n",
      "Val  batch 20 loss: 0.5774098634719849\n",
      "  batch 60 loss: 0.49522479275862374\n",
      "Val  batch 10 loss: 0.5491940379142761\n",
      "Val  batch 20 loss: 0.5280479192733765\n",
      "  batch 30 loss: 0.4775359441836675\n",
      "Val  batch 10 loss: 0.5237016081809998\n",
      "Val  batch 20 loss: 0.56045001745224\n",
      "  batch 60 loss: 0.4934403916200002\n",
      "Val  batch 10 loss: 0.5254985690116882\n",
      "Val  batch 20 loss: 0.5432495474815369\n",
      "  batch 30 loss: 0.5020536402861278\n",
      "Val  batch 10 loss: 0.5237730145454407\n",
      "Val  batch 20 loss: 0.5297280550003052\n",
      "  batch 60 loss: 0.47780433197816213\n",
      "Val  batch 10 loss: 0.5489442944526672\n",
      "Val  batch 20 loss: 0.5291749238967896\n"
     ]
    }
   ],
   "source": [
    "losses = list()\n",
    "val_losses = list()\n",
    "for epoch in tqdm(range(num_epochs)):\n",
    "    running_loss = 0\n",
    "    for i, sample in enumerate(train_dataloader):\n",
    "        text_classifier.train()\n",
    "        optimizer.zero_grad()\n",
    "        out = text_classifier(sample[0].to(device))\n",
    "        loss = criterion(out,sample[1].unsqueeze(dim=-1).to(device))\n",
    "        loss.backward()\n",
    "        optimizer.step()\n",
    "         # Gather data and report\n",
    "        running_loss += loss.item()\n",
    "        if i % 30 == 29:\n",
    "            losses.append(running_loss / 30) # loss per batch\n",
    "            print('  batch {} loss: {}'.format(i + 1, losses[-1]))\n",
    "            running_loss = 0\n",
    "            text_classifier.eval()\n",
    "            with torch.no_grad():\n",
    "                running_val_loss = 0\n",
    "                for j, val_sample in enumerate(val_dataloader):\n",
    "                    val_out = text_classifier(val_sample[0].to(device))\n",
    "                    val_loss = criterion(val_out,val_sample[1].unsqueeze(dim=-1).to(device))\n",
    "                    running_val_loss += val_loss\n",
    "                    if j % 10 ==9:\n",
    "                        val_losses.append(running_val_loss / 10)\n",
    "                        print('Val  batch {} loss: {}'.format(j + 1, val_losses[-1]))\n",
    "                        running_val_loss = 0\n",
    "\n",
    "            \n",
    "\n",
    "\n",
    "\n",
    "\n",
    "        "
   ]
  },
  {
   "cell_type": "code",
   "execution_count": 214,
   "metadata": {},
   "outputs": [],
   "source": [
    "import matplotlib.pyplot as plt \n",
    "import seaborn as sns\n",
    "\n",
    "%matplotlib inline "
   ]
  },
  {
   "cell_type": "markdown",
   "metadata": {},
   "source": [
    "\n",
    "### Training loss"
   ]
  },
  {
   "cell_type": "code",
   "execution_count": 215,
   "metadata": {},
   "outputs": [
    {
     "data": {
      "text/plain": [
       "<Axes: >"
      ]
     },
     "execution_count": 215,
     "metadata": {},
     "output_type": "execute_result"
    },
    {
     "data": {
      "image/png": "[encoded data removed]",
      "text/plain": [
       "<Figure size 640x480 with 1 Axes>"
      ]
     },
     "metadata": {},
     "output_type": "display_data"
    }
   ],
   "source": [
    "sns.lineplot(losses)"
   ]
  },
  {
   "cell_type": "markdown",
   "metadata": {},
   "source": [
    "### Validation loss"
   ]
  },
  {
   "cell_type": "code",
   "execution_count": 216,
   "metadata": {},
   "outputs": [
    {
     "data": {
      "text/plain": [
       "<Axes: >"
      ]
     },
     "execution_count": 216,
     "metadata": {},
     "output_type": "execute_result"
    },
    {
     "data": {
      "image/png": "[encoded data removed]",
      "text/plain": [
       "<Figure size 640x480 with 1 Axes>"
      ]
     },
     "metadata": {},
     "output_type": "display_data"
    }
   ],
   "source": [
    "sns.lineplot([x.item() for x in val_losses])"
   ]
  },
  {
   "cell_type": "markdown",
   "metadata": {},
   "source": [
    "***Looks like our losses are saturated mostly***"
   ]
  },
  {
   "cell_type": "code",
   "execution_count": 217,
   "metadata": {},
   "outputs": [],
   "source": [
    "val_outs = list()\n",
    "val_labels = list()\n",
    "text_classifier.eval()\n",
    "with torch.no_grad():\n",
    "    for val_sample in val_dataloader:\n",
    "        outs = text_classifier(val_sample[0].to(device))\n",
    "        val_labels.extend([x.item() for x in val_sample[1]])\n",
    "        val_outs.extend([1 if x.item() >= 0.5 else 0 for x in F.sigmoid(outs).squeeze()])\n",
    "        "
   ]
  },
  {
   "cell_type": "code",
   "execution_count": 218,
   "metadata": {},
   "outputs": [
    {
     "data": {
      "text/plain": [
       "tensor([0., 0., 1., 0., 0., 0., 1., 1., 0., 1., 1., 0., 1., 1., 0., 1., 0., 1.,\n",
       "        1., 1., 1., 1., 0., 1., 1., 0., 0., 1., 0.])"
      ]
     },
     "execution_count": 218,
     "metadata": {},
     "output_type": "execute_result"
    }
   ],
   "source": [
    "val_sample[1]"
   ]
  },
  {
   "cell_type": "code",
   "execution_count": 219,
   "metadata": {},
   "outputs": [],
   "source": [
    "from sklearn.metrics import classification_report"
   ]
  },
  {
   "cell_type": "code",
   "execution_count": 220,
   "metadata": {},
   "outputs": [
    {
     "name": "stdout",
     "output_type": "stream",
     "text": [
      "              precision    recall  f1-score   support\n",
      "\n",
      "         0.0       0.72      0.85      0.78       673\n",
      "         1.0       0.80      0.65      0.72       636\n",
      "\n",
      "    accuracy                           0.75      1309\n",
      "   macro avg       0.76      0.75      0.75      1309\n",
      "weighted avg       0.76      0.75      0.75      1309\n",
      "\n"
     ]
    }
   ],
   "source": [
    "print(classification_report(y_pred=val_outs, y_true=val_labels))"
   ]
  },
  {
   "cell_type": "code",
   "execution_count": 61,
   "metadata": {},
   "outputs": [],
   "source": [
    "torch.save(text_classifier.state_dict(),'../data/nlp-getting-started/dl_classifier_skip_gram.bin')"
   ]
  },
  {
   "cell_type": "code",
   "execution_count": 62,
   "metadata": {},
   "outputs": [],
   "source": [
    "test_dataset = TextDataset(test_df['text'], encoding_layer, weights, ids=test_df['id'])"
   ]
  },
  {
   "cell_type": "code",
   "execution_count": 63,
   "metadata": {},
   "outputs": [],
   "source": [
    "test_dataloader = DataLoader(test_dataset,batch_size=64,collate_fn=collate_fn)"
   ]
  },
  {
   "cell_type": "code",
   "execution_count": 64,
   "metadata": {},
   "outputs": [
    {
     "data": {
      "text/plain": [
       "tensor([0.])"
      ]
     },
     "execution_count": 64,
     "metadata": {},
     "output_type": "execute_result"
    }
   ],
   "source": [
    "test_dataset[0][1]"
   ]
  },
  {
   "cell_type": "code",
   "execution_count": 65,
   "metadata": {},
   "outputs": [
    {
     "data": {
      "text/plain": [
       "torch.Size([18, 128])"
      ]
     },
     "execution_count": 65,
     "metadata": {},
     "output_type": "execute_result"
    }
   ],
   "source": [
    "train_dataset[0][0].shape"
   ]
  },
  {
   "cell_type": "code",
   "execution_count": 66,
   "metadata": {},
   "outputs": [],
   "source": [
    "test_outs = list()\n",
    "test_ids = list()\n",
    "text_classifier.eval()\n",
    "with torch.no_grad():\n",
    "    for test_sample in test_dataloader:\n",
    "        outs = text_classifier(test_sample[0].to(device))\n",
    "        test_outs.extend([1 if x.item() >= 0.5 else 0 for x in F.sigmoid(outs).squeeze()])\n",
    "        test_ids.extend([x.item() for x in test_sample[-1]])\n",
    "        "
   ]
  },
  {
   "cell_type": "code",
   "execution_count": 67,
   "metadata": {},
   "outputs": [],
   "source": [
    "submission_outs = pd.DataFrame()"
   ]
  },
  {
   "cell_type": "code",
   "execution_count": 68,
   "metadata": {},
   "outputs": [],
   "source": [
    "submission_outs['id'] = test_ids"
   ]
  },
  {
   "cell_type": "code",
   "execution_count": 69,
   "metadata": {},
   "outputs": [],
   "source": [
    "submission_outs['target'] = test_outs"
   ]
  },
  {
   "cell_type": "code",
   "execution_count": 70,
   "metadata": {},
   "outputs": [],
   "source": [
    "submission_outs.to_csv('../data/nlp-getting-started/skip_gram_submission.csv',index=False)"
   ]
  },
  {
   "cell_type": "code",
   "execution_count": 71,
   "metadata": {},
   "outputs": [
    {
     "data": {
      "text/plain": [
       "target\n",
       "0    2186\n",
       "1    1077\n",
       "Name: count, dtype: int64"
      ]
     },
     "execution_count": 71,
     "metadata": {},
     "output_type": "execute_result"
    }
   ],
   "source": [
    "pd.read_csv(\"../data/nlp-getting-started/skip_gram_submission.csv\")['target'].value_counts()"
   ]
  },
  {
   "cell_type": "code",
   "execution_count": null,
   "metadata": {},
   "outputs": [],
   "source": []
  }
 ],
 "metadata": {
  "kernelspec": {
   "display_name": "nlp_py10",
   "language": "python",
   "name": "python3"
  },
  "language_info": {
   "codemirror_mode": {
    "name": "ipython",
    "version": 3
   },
   "file_extension": ".py",
   "mimetype": "text/x-python",
   "name": "python",
   "nbconvert_exporter": "python",
   "pygments_lexer": "ipython3",
   "version": "3.11.5"
  }
 },
 "nbformat": 4,
 "nbformat_minor": 2
}

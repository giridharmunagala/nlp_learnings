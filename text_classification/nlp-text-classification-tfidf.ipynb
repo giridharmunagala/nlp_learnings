{
 "cells": [
  {
   "cell_type": "markdown",
   "id": "83d19165",
   "metadata": {},
   "source": [
    "# NLP - Text Classification using TF-IDF Vectors"
   ]
  },
  {
   "cell_type": "markdown",
   "id": "49ae53fd",
   "metadata": {},
   "source": [
    "**Part of Kaggle competetion hosted @<a href=https://www.kaggle.com/competitions/nlp-getting-started/overview>Competetion Link</a>**"
   ]
  },
  {
   "cell_type": "markdown",
   "id": "5652519f",
   "metadata": {},
   "source": [
    "Text classification is one of the fundamental analytical tasks in NLP domain. Some of the applications include but not limited to\n",
    "- Spam detection\n",
    "- Customer intent categorization\n",
    "- Document classification\n",
    "- Product categorization\n",
    "- Sentiment classification\n",
    "\n",
    "Since text data is not machine understandable, we need to convert it into usable format. One such technique is to use occurrence of word as a feature. We can build a list of words that are useful & create separate feature for each word indicating corresponding text has it or not (or indicating number of occurrences).\n",
    "\n",
    "If we directly use the top words (Term frequency), we might end up using a lot of unnecessary words as features. To mitigate it we can\n",
    "- Build stop words list\n",
    "- Use TF-IDF scores to determine the top words\n",
    "\n",
    "\n",
    "**Term Frequency times Inverse document frequency (TF-IDF):** \n",
    "<br></br>\n",
    "<p style=\"text-align: center;\">\n",
    "<math xmlns=\"http://www.w3.org/1998/Math/MathML\">\n",
    "  <mtext>tf-idf(t,d)</mtext>\n",
    "  <mo>=</mo>\n",
    "  <mtext>tf(t,d)</mtext>\n",
    "  <mo>&#xD7;</mo>\n",
    "  <mtext>idf(t)</mtext>\n",
    "</math>\n",
    "</p>\n",
    "\n",
    "- tf(t,d) - Term frequency / Number of occurrences  of term \"t\" in document \"d\"\n",
    "- idf(t) - \n",
    "<br></br>\n",
    "<p style=\"text-align: center;\">\n",
    "  <math xmlns=\"http://www.w3.org/1998/Math/MathML\">\n",
    "  <mtext>idf</mtext>\n",
    "  <mo stretchy=\"false\">(</mo>\n",
    "  <mi>t</mi>\n",
    "  <mo stretchy=\"false\">)</mo>\n",
    "  <mo>=</mo>\n",
    "  <mi>log</mi>\n",
    "  <mo data-mjx-texclass=\"NONE\">&#x2061;</mo>\n",
    "  <mrow data-mjx-texclass=\"ORD\">\n",
    "    <mfrac>\n",
    "      <mrow>\n",
    "        <mn>1</mn>\n",
    "        <mo>+</mo>\n",
    "        <mi>n</mi>\n",
    "      </mrow>\n",
    "      <mrow>\n",
    "        <mn>1</mn>\n",
    "        <mo>+</mo>\n",
    "        <mtext>df</mtext>\n",
    "        <mo stretchy=\"false\">(</mo>\n",
    "        <mi>t</mi>\n",
    "        <mo stretchy=\"false\">)</mo>\n",
    "      </mrow>\n",
    "    </mfrac>\n",
    "  </mrow>\n",
    "  <mo>+</mo>\n",
    "  <mn>1</mn>\n",
    "</math>\n",
    "</p>\n",
    "\n",
    "Where n - Total number of documents , df(t) is number of documents containing term \"t\". IDF approaches 1 as df(t) approaches n.\n",
    "<br></br>\n",
    "***You can read more about it @*** <a href=\"https://scikit-learn.org/stable/modules/feature_extraction.html#tfidf-term-weighting\">Sklearn-TF-IDF</a>\n",
    "\n",
    "Let's dive into build our text classifier!! \n",
    "\n",
    "\n"
   ]
  },
  {
   "cell_type": "markdown",
   "id": "17934667",
   "metadata": {},
   "source": [
    "## Data description\n"
   ]
  },
  {
   "cell_type": "markdown",
   "id": "2c3eafe6",
   "metadata": {},
   "source": [
    "Dataset contains tweets from Twitter, containing tweets related to real disasters & other similar tweets.<br>\n",
    "Challenge was to identify which ones are real disaster tweets."
   ]
  },
  {
   "cell_type": "markdown",
   "id": "6e484800",
   "metadata": {},
   "source": [
    "## Imports"
   ]
  },
  {
   "cell_type": "code",
   "execution_count": null,
   "id": "491815db",
   "metadata": {
    "_cell_guid": "b1076dfc-b9ad-4769-8c92-a6c4dae69d19",
    "_uuid": "8f2839f25d086af736a60e9eeb907d3b93b6e0e5",
    "execution": {
     "iopub.execute_input": "2023-10-22T13:57:57.413092Z",
     "iopub.status.busy": "2023-10-22T13:57:57.411945Z",
     "iopub.status.idle": "2023-10-22T13:57:57.878606Z",
     "shell.execute_reply": "2023-10-22T13:57:57.877359Z"
    },
    "papermill": {
     "duration": 0.493553,
     "end_time": "2023-10-22T13:57:57.881625",
     "exception": false,
     "start_time": "2023-10-22T13:57:57.388072",
     "status": "completed"
    },
    "tags": []
   },
   "outputs": [],
   "source": [
    "import numpy as np \n",
    "import pandas as pd\n",
    "import matplotlib.pyplot as plt\n",
    "from sklearn.feature_extraction.text import TfidfVectorizer\n",
    "from sklearn.model_selection import train_test_split\n",
    "from sklearn.ensemble import RandomForestClassifier, GradientBoostingClassifier\n",
    "from sklearn.metrics import classification_report, confusion_matrix\n",
    "from sklearn.model_selection import GridSearchCV\n",
    "from sklearn.metrics import f1_score, make_scorer\n",
    "%matplotlib inline\n"
   ]
  },
  {
   "cell_type": "markdown",
   "id": "b677a965",
   "metadata": {},
   "source": [
    "### Loading data set"
   ]
  },
  {
   "cell_type": "code",
   "execution_count": 3,
   "id": "b4fb7026",
   "metadata": {
    "execution": {
     "iopub.execute_input": "2023-10-22T13:57:57.966306Z",
     "iopub.status.busy": "2023-10-22T13:57:57.965535Z",
     "iopub.status.idle": "2023-10-22T13:57:57.970399Z",
     "shell.execute_reply": "2023-10-22T13:57:57.969435Z"
    },
    "papermill": {
     "duration": 0.025694,
     "end_time": "2023-10-22T13:57:57.972626",
     "exception": false,
     "start_time": "2023-10-22T13:57:57.946932",
     "status": "completed"
    },
    "tags": []
   },
   "outputs": [],
   "source": [
    "train_file = '<train_file_path>'\n",
    "test_file = '<test_file_path>'"
   ]
  },
  {
   "cell_type": "code",
   "execution_count": 4,
   "id": "ded7c0cb",
   "metadata": {
    "execution": {
     "iopub.execute_input": "2023-10-22T13:57:58.007611Z",
     "iopub.status.busy": "2023-10-22T13:57:58.006812Z",
     "iopub.status.idle": "2023-10-22T13:57:58.070603Z",
     "shell.execute_reply": "2023-10-22T13:57:58.069656Z"
    },
    "papermill": {
     "duration": 0.084604,
     "end_time": "2023-10-22T13:57:58.073527",
     "exception": false,
     "start_time": "2023-10-22T13:57:57.988923",
     "status": "completed"
    },
    "tags": []
   },
   "outputs": [],
   "source": [
    "train_df = pd.read_csv(train_file)"
   ]
  },
  {
   "cell_type": "code",
   "execution_count": 5,
   "id": "2a1d8f35",
   "metadata": {
    "execution": {
     "iopub.execute_input": "2023-10-22T13:57:58.108177Z",
     "iopub.status.busy": "2023-10-22T13:57:58.107403Z",
     "iopub.status.idle": "2023-10-22T13:57:58.137918Z",
     "shell.execute_reply": "2023-10-22T13:57:58.136855Z"
    },
    "papermill": {
     "duration": 0.05069,
     "end_time": "2023-10-22T13:57:58.140424",
     "exception": false,
     "start_time": "2023-10-22T13:57:58.089734",
     "status": "completed"
    },
    "tags": []
   },
   "outputs": [
    {
     "data": {
      "text/html": [
       "<div>\n",
       "<style scoped>\n",
       "    .dataframe tbody tr th:only-of-type {\n",
       "        vertical-align: middle;\n",
       "    }\n",
       "\n",
       "    .dataframe tbody tr th {\n",
       "        vertical-align: top;\n",
       "    }\n",
       "\n",
       "    .dataframe thead th {\n",
       "        text-align: right;\n",
       "    }\n",
       "</style>\n",
       "<table border=\"1\" class=\"dataframe\">\n",
       "  <thead>\n",
       "    <tr style=\"text-align: right;\">\n",
       "      <th></th>\n",
       "      <th>id</th>\n",
       "      <th>keyword</th>\n",
       "      <th>location</th>\n",
       "      <th>text</th>\n",
       "      <th>target</th>\n",
       "    </tr>\n",
       "  </thead>\n",
       "  <tbody>\n",
       "    <tr>\n",
       "      <th>0</th>\n",
       "      <td>1</td>\n",
       "      <td>NaN</td>\n",
       "      <td>NaN</td>\n",
       "      <td>Our Deeds are the Reason of this #earthquake M...</td>\n",
       "      <td>1</td>\n",
       "    </tr>\n",
       "    <tr>\n",
       "      <th>1</th>\n",
       "      <td>4</td>\n",
       "      <td>NaN</td>\n",
       "      <td>NaN</td>\n",
       "      <td>Forest fire near La Ronge Sask. Canada</td>\n",
       "      <td>1</td>\n",
       "    </tr>\n",
       "    <tr>\n",
       "      <th>2</th>\n",
       "      <td>5</td>\n",
       "      <td>NaN</td>\n",
       "      <td>NaN</td>\n",
       "      <td>All residents asked to 'shelter in place' are ...</td>\n",
       "      <td>1</td>\n",
       "    </tr>\n",
       "    <tr>\n",
       "      <th>3</th>\n",
       "      <td>6</td>\n",
       "      <td>NaN</td>\n",
       "      <td>NaN</td>\n",
       "      <td>13,000 people receive #wildfires evacuation or...</td>\n",
       "      <td>1</td>\n",
       "    </tr>\n",
       "    <tr>\n",
       "      <th>4</th>\n",
       "      <td>7</td>\n",
       "      <td>NaN</td>\n",
       "      <td>NaN</td>\n",
       "      <td>Just got sent this photo from Ruby #Alaska as ...</td>\n",
       "      <td>1</td>\n",
       "    </tr>\n",
       "    <tr>\n",
       "      <th>...</th>\n",
       "      <td>...</td>\n",
       "      <td>...</td>\n",
       "      <td>...</td>\n",
       "      <td>...</td>\n",
       "      <td>...</td>\n",
       "    </tr>\n",
       "    <tr>\n",
       "      <th>7608</th>\n",
       "      <td>10869</td>\n",
       "      <td>NaN</td>\n",
       "      <td>NaN</td>\n",
       "      <td>Two giant cranes holding a bridge collapse int...</td>\n",
       "      <td>1</td>\n",
       "    </tr>\n",
       "    <tr>\n",
       "      <th>7609</th>\n",
       "      <td>10870</td>\n",
       "      <td>NaN</td>\n",
       "      <td>NaN</td>\n",
       "      <td>@aria_ahrary @TheTawniest The out of control w...</td>\n",
       "      <td>1</td>\n",
       "    </tr>\n",
       "    <tr>\n",
       "      <th>7610</th>\n",
       "      <td>10871</td>\n",
       "      <td>NaN</td>\n",
       "      <td>NaN</td>\n",
       "      <td>M1.94 [01:04 UTC]?5km S of Volcano Hawaii. htt...</td>\n",
       "      <td>1</td>\n",
       "    </tr>\n",
       "    <tr>\n",
       "      <th>7611</th>\n",
       "      <td>10872</td>\n",
       "      <td>NaN</td>\n",
       "      <td>NaN</td>\n",
       "      <td>Police investigating after an e-bike collided ...</td>\n",
       "      <td>1</td>\n",
       "    </tr>\n",
       "    <tr>\n",
       "      <th>7612</th>\n",
       "      <td>10873</td>\n",
       "      <td>NaN</td>\n",
       "      <td>NaN</td>\n",
       "      <td>The Latest: More Homes Razed by Northern Calif...</td>\n",
       "      <td>1</td>\n",
       "    </tr>\n",
       "  </tbody>\n",
       "</table>\n",
       "<p>7613 rows × 5 columns</p>\n",
       "</div>"
      ],
      "text/plain": [
       "         id keyword location  \\\n",
       "0         1     NaN      NaN   \n",
       "1         4     NaN      NaN   \n",
       "2         5     NaN      NaN   \n",
       "3         6     NaN      NaN   \n",
       "4         7     NaN      NaN   \n",
       "...     ...     ...      ...   \n",
       "7608  10869     NaN      NaN   \n",
       "7609  10870     NaN      NaN   \n",
       "7610  10871     NaN      NaN   \n",
       "7611  10872     NaN      NaN   \n",
       "7612  10873     NaN      NaN   \n",
       "\n",
       "                                                   text  target  \n",
       "0     Our Deeds are the Reason of this #earthquake M...       1  \n",
       "1                Forest fire near La Ronge Sask. Canada       1  \n",
       "2     All residents asked to 'shelter in place' are ...       1  \n",
       "3     13,000 people receive #wildfires evacuation or...       1  \n",
       "4     Just got sent this photo from Ruby #Alaska as ...       1  \n",
       "...                                                 ...     ...  \n",
       "7608  Two giant cranes holding a bridge collapse int...       1  \n",
       "7609  @aria_ahrary @TheTawniest The out of control w...       1  \n",
       "7610  M1.94 [01:04 UTC]?5km S of Volcano Hawaii. htt...       1  \n",
       "7611  Police investigating after an e-bike collided ...       1  \n",
       "7612  The Latest: More Homes Razed by Northern Calif...       1  \n",
       "\n",
       "[7613 rows x 5 columns]"
      ]
     },
     "execution_count": 5,
     "metadata": {},
     "output_type": "execute_result"
    }
   ],
   "source": [
    "train_df"
   ]
  },
  {
   "cell_type": "markdown",
   "id": "42f5aed5",
   "metadata": {},
   "source": [
    "- Distribution of the target variable"
   ]
  },
  {
   "cell_type": "code",
   "execution_count": 6,
   "id": "9056e824",
   "metadata": {
    "execution": {
     "iopub.execute_input": "2023-10-22T13:57:58.177295Z",
     "iopub.status.busy": "2023-10-22T13:57:58.176872Z",
     "iopub.status.idle": "2023-10-22T13:57:58.188827Z",
     "shell.execute_reply": "2023-10-22T13:57:58.187497Z"
    },
    "papermill": {
     "duration": 0.033633,
     "end_time": "2023-10-22T13:57:58.191114",
     "exception": false,
     "start_time": "2023-10-22T13:57:58.157481",
     "status": "completed"
    },
    "tags": []
   },
   "outputs": [
    {
     "data": {
      "text/plain": [
       "target\n",
       "0    4342\n",
       "1    3271\n",
       "Name: count, dtype: int64"
      ]
     },
     "execution_count": 6,
     "metadata": {},
     "output_type": "execute_result"
    }
   ],
   "source": [
    "train_df.target.value_counts()"
   ]
  },
  {
   "cell_type": "markdown",
   "id": "05aac006",
   "metadata": {},
   "source": [
    "- Checking if length of the tweet has any indication"
   ]
  },
  {
   "cell_type": "code",
   "execution_count": 7,
   "id": "147d9969",
   "metadata": {
    "execution": {
     "iopub.execute_input": "2023-10-22T13:57:58.227203Z",
     "iopub.status.busy": "2023-10-22T13:57:58.226558Z",
     "iopub.status.idle": "2023-10-22T13:57:58.238554Z",
     "shell.execute_reply": "2023-10-22T13:57:58.237566Z"
    },
    "papermill": {
     "duration": 0.033019,
     "end_time": "2023-10-22T13:57:58.241063",
     "exception": false,
     "start_time": "2023-10-22T13:57:58.208044",
     "status": "completed"
    },
    "tags": []
   },
   "outputs": [],
   "source": [
    "train_df['length'] = train_df['text'].apply(len)"
   ]
  },
  {
   "cell_type": "code",
   "execution_count": 8,
   "id": "18e92562",
   "metadata": {
    "execution": {
     "iopub.execute_input": "2023-10-22T13:57:58.276669Z",
     "iopub.status.busy": "2023-10-22T13:57:58.276002Z",
     "iopub.status.idle": "2023-10-22T13:57:58.628516Z",
     "shell.execute_reply": "2023-10-22T13:57:58.627419Z"
    },
    "papermill": {
     "duration": 0.373437,
     "end_time": "2023-10-22T13:57:58.631168",
     "exception": false,
     "start_time": "2023-10-22T13:57:58.257731",
     "status": "completed"
    },
    "tags": []
   },
   "outputs": [
    {
     "data": {
      "text/plain": [
       "<Axes: ylabel='Frequency'>"
      ]
     },
     "execution_count": 8,
     "metadata": {},
     "output_type": "execute_result"
    },
    {
     "data": {
      "image/png": "[encoded data removed]",
      "text/plain": [
       "<Figure size 640x480 with 1 Axes>"
      ]
     },
     "metadata": {},
     "output_type": "display_data"
    }
   ],
   "source": [
    "train_df['length'].plot(kind='hist')"
   ]
  },
  {
   "cell_type": "code",
   "execution_count": 9,
   "id": "59966de6",
   "metadata": {
    "execution": {
     "iopub.execute_input": "2023-10-22T13:57:58.667155Z",
     "iopub.status.busy": "2023-10-22T13:57:58.666681Z",
     "iopub.status.idle": "2023-10-22T13:57:59.304823Z",
     "shell.execute_reply": "2023-10-22T13:57:59.303716Z"
    },
    "papermill": {
     "duration": 0.659811,
     "end_time": "2023-10-22T13:57:59.307954",
     "exception": false,
     "start_time": "2023-10-22T13:57:58.648143",
     "status": "completed"
    },
    "tags": []
   },
   "outputs": [
    {
     "data": {
      "text/plain": [
       "<Axes: title={'center': 'Other tweets'}, ylabel='Frequency'>"
      ]
     },
     "execution_count": 9,
     "metadata": {},
     "output_type": "execute_result"
    },
    {
     "data": {
      "image/png": "[encoded data removed]",
      "text/plain": [
       "<Figure size 1800x600 with 2 Axes>"
      ]
     },
     "metadata": {},
     "output_type": "display_data"
    }
   ],
   "source": [
    "plt.figure(figsize=(18,6))\n",
    "plt.subplot(1,2,1)\n",
    "train_df[train_df['target']==1]['length'].plot(kind='hist',title='Disaster tweets')\n",
    "plt.subplot(1,2,2)\n",
    "train_df[train_df['target']==0]['length'].plot(kind='hist',title='Other tweets')"
   ]
  },
  {
   "cell_type": "markdown",
   "id": "425dc9a0",
   "metadata": {
    "papermill": {
     "duration": 0.018221,
     "end_time": "2023-10-22T13:57:59.344282",
     "exception": false,
     "start_time": "2023-10-22T13:57:59.326061",
     "status": "completed"
    },
    "tags": []
   },
   "source": [
    "- Disaster tweets have more longer tweets than normal.\n",
    "- Both kind of tweets are maxing at the right tail, indicating a limit on the tweets themselves imposed by external factors. (Here it is platform limit of 160 characters.)"
   ]
  },
  {
   "cell_type": "markdown",
   "id": "62b28b13",
   "metadata": {
    "papermill": {
     "duration": 0.017634,
     "end_time": "2023-10-22T13:57:59.379755",
     "exception": false,
     "start_time": "2023-10-22T13:57:59.362121",
     "status": "completed"
    },
    "tags": []
   },
   "source": [
    "### Understanding the distribution of keywords"
   ]
  },
  {
   "cell_type": "markdown",
   "id": "dd720915",
   "metadata": {
    "papermill": {
     "duration": 0.018658,
     "end_time": "2023-10-22T13:57:59.418174",
     "exception": false,
     "start_time": "2023-10-22T13:57:59.399516",
     "status": "completed"
    },
    "tags": []
   },
   "source": [
    "**Hashtags analysis**"
   ]
  },
  {
   "cell_type": "code",
   "execution_count": 10,
   "id": "e41f8ff6",
   "metadata": {
    "execution": {
     "iopub.execute_input": "2023-10-22T13:57:59.519170Z",
     "iopub.status.busy": "2023-10-22T13:57:59.518788Z",
     "iopub.status.idle": "2023-10-22T13:57:59.524782Z",
     "shell.execute_reply": "2023-10-22T13:57:59.523767Z"
    },
    "papermill": {
     "duration": 0.027829,
     "end_time": "2023-10-22T13:57:59.527389",
     "exception": false,
     "start_time": "2023-10-22T13:57:59.499560",
     "status": "completed"
    },
    "tags": []
   },
   "outputs": [],
   "source": [
    "def get_all_hashtags(text):\n",
    "    \"\"\"\n",
    "        Given a text retrieves hashtags present in it.\n",
    "        Params:\n",
    "            text: Input text\n",
    "        returns: List of hashtags\n",
    "    \"\"\"\n",
    "    # Assumption : Hashtags are contiguous text without spaces in b/w\n",
    "    return [word for word in text.split() if word.startswith('#')]"
   ]
  },
  {
   "cell_type": "code",
   "execution_count": 11,
   "id": "7a18d219",
   "metadata": {
    "execution": {
     "iopub.execute_input": "2023-10-22T13:57:59.564607Z",
     "iopub.status.busy": "2023-10-22T13:57:59.564135Z",
     "iopub.status.idle": "2023-10-22T13:57:59.604541Z",
     "shell.execute_reply": "2023-10-22T13:57:59.603347Z"
    },
    "papermill": {
     "duration": 0.062178,
     "end_time": "2023-10-22T13:57:59.607402",
     "exception": false,
     "start_time": "2023-10-22T13:57:59.545224",
     "status": "completed"
    },
    "tags": []
   },
   "outputs": [],
   "source": [
    "train_df['hashtags'] = train_df['text'].apply(get_all_hashtags)"
   ]
  },
  {
   "cell_type": "code",
   "execution_count": 12,
   "id": "f684c102",
   "metadata": {
    "execution": {
     "iopub.execute_input": "2023-10-22T13:57:59.645327Z",
     "iopub.status.busy": "2023-10-22T13:57:59.644671Z",
     "iopub.status.idle": "2023-10-22T13:57:59.671431Z",
     "shell.execute_reply": "2023-10-22T13:57:59.670023Z"
    },
    "papermill": {
     "duration": 0.05034,
     "end_time": "2023-10-22T13:57:59.675484",
     "exception": false,
     "start_time": "2023-10-22T13:57:59.625144",
     "status": "completed"
    },
    "tags": []
   },
   "outputs": [
    {
     "name": "stdout",
     "output_type": "stream",
     "text": [
      "% of tweets with Hashtags present : 22.776829108104558\n",
      "% of tweets with Hashtags present in disaster tweets: 26.199938856618772\n",
      "% of tweets with Hashtags present in other tweets: 20.198065407646247\n"
     ]
    }
   ],
   "source": [
    "print(f\"% of tweets with Hashtags present : {(train_df[train_df['hashtags'].apply(len) > 0 ].shape[0] / train_df.shape[0]) * 100}\")\n",
    "\n",
    "print(f\"% of tweets with Hashtags present in disaster tweets: {(train_df[(train_df['hashtags'].apply(len) > 0) & (train_df['target']==1)].shape[0] / train_df[train_df['target']==1].shape[0]) * 100}\")\n",
    "\n",
    "print(f\"% of tweets with Hashtags present in other tweets: {(train_df[(train_df['hashtags'].apply(len) > 0) & (train_df['target']==0)].shape[0] / train_df[train_df['target']==0].shape[0]) * 100}\")"
   ]
  },
  {
   "cell_type": "markdown",
   "id": "1254947a",
   "metadata": {
    "papermill": {
     "duration": 0.018031,
     "end_time": "2023-10-22T13:57:59.712155",
     "exception": false,
     "start_time": "2023-10-22T13:57:59.694124",
     "status": "completed"
    },
    "tags": []
   },
   "source": [
    "**Only slightly higher chance of finding a hashtag in disaster tweets compared to other tweets**"
   ]
  },
  {
   "cell_type": "code",
   "execution_count": 13,
   "id": "74786237",
   "metadata": {
    "execution": {
     "iopub.execute_input": "2023-10-22T13:57:59.750986Z",
     "iopub.status.busy": "2023-10-22T13:57:59.750273Z",
     "iopub.status.idle": "2023-10-22T13:57:59.761528Z",
     "shell.execute_reply": "2023-10-22T13:57:59.760232Z"
    },
    "papermill": {
     "duration": 0.034149,
     "end_time": "2023-10-22T13:57:59.764307",
     "exception": false,
     "start_time": "2023-10-22T13:57:59.730158",
     "status": "completed"
    },
    "tags": []
   },
   "outputs": [],
   "source": [
    "disaster_hashtags = list()\n",
    "other_hashtags = list()\n",
    "\n",
    "_ = [disaster_hashtags.extend(hashtags) for hashtags in (train_df[train_df['target']==1]['hashtags'].values)]\n",
    "_ = [other_hashtags.extend(hashtags) for hashtags in (train_df[train_df['target']==0]['hashtags'].values)]"
   ]
  },
  {
   "cell_type": "markdown",
   "id": "db6c240d",
   "metadata": {
    "papermill": {
     "duration": 0.01763,
     "end_time": "2023-10-22T13:57:59.800094",
     "exception": false,
     "start_time": "2023-10-22T13:57:59.782464",
     "status": "completed"
    },
    "tags": []
   },
   "source": [
    "**Looking at the frequency of hashtags**"
   ]
  },
  {
   "cell_type": "code",
   "execution_count": 14,
   "id": "b2c369a4",
   "metadata": {
    "execution": {
     "iopub.execute_input": "2023-10-22T13:57:59.838823Z",
     "iopub.status.busy": "2023-10-22T13:57:59.838439Z",
     "iopub.status.idle": "2023-10-22T13:57:59.853025Z",
     "shell.execute_reply": "2023-10-22T13:57:59.851052Z"
    },
    "papermill": {
     "duration": 0.037483,
     "end_time": "2023-10-22T13:57:59.856139",
     "exception": false,
     "start_time": "2023-10-22T13:57:59.818656",
     "status": "completed"
    },
    "tags": []
   },
   "outputs": [
    {
     "name": "stdout",
     "output_type": "stream",
     "text": [
      "Top hashtags of disasters : ['#News', '#???', '#news', '#Hiroshima', '#??', '#prebreak', '#hot', '#best', '#India', '#yyc', '#Sismo', '#Japan', '#earthquake', '#ISIS', '#terrorism', '#abstorm', '#WX', '#Earthquake', '#world', '#okwx', '#CNN', '#Rohingya', '#Fukushima', '#Africa', '#BBC', '#Antioch', '#Bestnaijamade:', '#wildfires', '#disaster', '#science', '#Libya', '#drought', '#Sittwe', '#Myanmar', '#socialnews', '#Islam', '#wildfire', '#hailstorm', '#WorldNews', '#\\x89Û_', '#Zionist', '#GBBO', '#Terrorist', '#California', '#Nuclear', '#RockyFire', '#EarthQuake', '#Phoenix', '#photography', '#Lies']\n",
      "\n",
      " Top hashtags of non disasters : ['#hot', '#prebreak', '#best', '#news', '#GBBO', '#nowplaying', '#NowPlaying', '#jobs', '#EDM', '#Beyhive', '#Directioners', '#DnB', '#islam', '#RT', '#animalrescue', '#Dance', '#Ices\\x89Û_', '#TrapMusic', '#Dubstep', '#Nursing', '#MTVHottest', '#Emmerdale', '#Seattle', '#job', '#News', '#Womens', '#Handbag', '#', '#Jobs', '#Fashion', '#Job', '#kindle', '#Chemical', '#IranDeal', '#BlueJays', '#7', '#RAmag.', '#Models', '#Mayhem', '#np', '#SummerFate', '#Dependency', '#art', '#business', '#SoundCloud', '#technology', '#course', '#ProphetMuhammad', '#fashion', '#LGBT']\n"
     ]
    }
   ],
   "source": [
    "print(f\"Top hashtags of disasters : {list(pd.Series(disaster_hashtags).value_counts()[:50].index)}\")\n",
    "\n",
    "print(f\"\\n Top hashtags of non disasters : {list(pd.Series(other_hashtags).value_counts()[:50].index)}\")"
   ]
  },
  {
   "cell_type": "markdown",
   "id": "b0134734",
   "metadata": {
    "papermill": {
     "duration": 0.017618,
     "end_time": "2023-10-22T13:57:59.891947",
     "exception": false,
     "start_time": "2023-10-22T13:57:59.874329",
     "status": "completed"
    },
    "tags": []
   },
   "source": [
    "**Similar Hashtags are being used for both kind of tweets. & % of Tweets with hashtags also low at 20% so solely can't be used for classification.**"
   ]
  },
  {
   "cell_type": "code",
   "execution_count": 15,
   "id": "0d3dde02",
   "metadata": {
    "execution": {
     "iopub.execute_input": "2023-10-22T13:57:59.929779Z",
     "iopub.status.busy": "2023-10-22T13:57:59.929352Z",
     "iopub.status.idle": "2023-10-22T13:57:59.940176Z",
     "shell.execute_reply": "2023-10-22T13:57:59.939054Z"
    },
    "papermill": {
     "duration": 0.032693,
     "end_time": "2023-10-22T13:57:59.942510",
     "exception": false,
     "start_time": "2023-10-22T13:57:59.909817",
     "status": "completed"
    },
    "tags": []
   },
   "outputs": [
    {
     "data": {
      "text/plain": [
       "keyword\n",
       "fatalities               45\n",
       "deluge                   42\n",
       "armageddon               42\n",
       "sinking                  41\n",
       "damage                   41\n",
       "                         ..\n",
       "forest%20fire            19\n",
       "epicentre                12\n",
       "threat                   11\n",
       "inundation               10\n",
       "radiation%20emergency     9\n",
       "Name: count, Length: 221, dtype: int64"
      ]
     },
     "execution_count": 15,
     "metadata": {},
     "output_type": "execute_result"
    }
   ],
   "source": [
    "train_df.keyword.value_counts()"
   ]
  },
  {
   "cell_type": "code",
   "execution_count": 16,
   "id": "0c82ec44",
   "metadata": {
    "execution": {
     "iopub.execute_input": "2023-10-22T13:57:59.982238Z",
     "iopub.status.busy": "2023-10-22T13:57:59.981825Z",
     "iopub.status.idle": "2023-10-22T13:57:59.989799Z",
     "shell.execute_reply": "2023-10-22T13:57:59.988310Z"
    },
    "papermill": {
     "duration": 0.030592,
     "end_time": "2023-10-22T13:57:59.992401",
     "exception": false,
     "start_time": "2023-10-22T13:57:59.961809",
     "status": "completed"
    },
    "tags": []
   },
   "outputs": [
    {
     "name": "stdout",
     "output_type": "stream",
     "text": [
      "% of the data points with keyword available : 99.19873899908052\n"
     ]
    }
   ],
   "source": [
    "print(f\"% of the data points with keyword available : {(train_df.keyword.notnull().sum() / train_df.shape[0])*100}\")"
   ]
  },
  {
   "cell_type": "code",
   "execution_count": 17,
   "id": "c7ddcd98",
   "metadata": {
    "execution": {
     "iopub.execute_input": "2023-10-22T13:58:00.031477Z",
     "iopub.status.busy": "2023-10-22T13:58:00.031054Z",
     "iopub.status.idle": "2023-10-22T13:58:00.044906Z",
     "shell.execute_reply": "2023-10-22T13:58:00.043766Z"
    },
    "papermill": {
     "duration": 0.036504,
     "end_time": "2023-10-22T13:58:00.047692",
     "exception": false,
     "start_time": "2023-10-22T13:58:00.011188",
     "status": "completed"
    },
    "tags": []
   },
   "outputs": [
    {
     "name": "stdout",
     "output_type": "stream",
     "text": [
      "Top keywords in disaster tweets : \n",
      " ['derailment', 'wreckage', 'outbreak', 'debris', 'oil%20spill', 'typhoon', 'evacuated', 'suicide%20bombing', 'rescuers', 'suicide%20bomb', 'nuclear%20disaster', 'razed', 'suicide%20bomber', 'earthquake', 'airplane%20accident', 'collision', 'wildfire', 'bridge%20collapse', 'evacuation', 'buildings%20on%20fire', 'mass%20murder', 'casualties', 'sandstorm', 'drought', 'forest%20fires', 'devastation', 'hostages', 'bombing', 'wild%20fires', 'sinkhole', 'famine', 'thunderstorm', 'fatal', 'displaced', 'derailed', 'fatalities', 'floods', 'deaths', 'wounded', 'violent%20storm', 'massacre', 'attack', 'flooding', 'evacuate', 'heat%20wave', 'dust%20storm', 'injured', 'hailstorm', 'terrorism', 'accident']\n",
      "\n",
      "Top keywords in other tweets : \n",
      " ['body%20bags', 'harm', 'armageddon', 'wrecked', 'ruin', 'deluge', 'explode', 'twister', 'fear', 'siren', 'aftershock', 'panic', 'screaming', 'blizzard', 'blazing', 'blaze', 'crush', 'sinking', 'traumatised', 'curfew', 'upheaval', 'bloody', 'body%20bag', 'hellfire', 'smoke', 'electrocute', 'blew%20up', 'collide', 'panicking', 'sunk', 'wreck', 'blight', 'screamed', 'stretcher', 'blood', 'bleeding', 'screams', 'desolation', 'demolish', 'quarantine', 'drown', 'inundated', 'lava', 'pandemonium', 'flattened', 'army', 'catastrophe', 'meltdown', 'destruction', 'destroy']\n",
      "Common keywords : []\n"
     ]
    }
   ],
   "source": [
    "top_50_keywords_disaster = list(train_df[train_df['target']==1].keyword.value_counts()[:50].index)\n",
    "top_50_keywords_other = list(train_df[train_df['target']==0].keyword.value_counts()[:50].index)\n",
    "print(\"Top keywords in disaster tweets : \\n\", top_50_keywords_disaster)\n",
    "\n",
    "print(\"\\nTop keywords in other tweets : \\n\", top_50_keywords_other)\n",
    "\n",
    "print(\"Common keywords :\",[keyword for keyword in top_50_keywords_disaster if keyword in top_50_keywords_other])"
   ]
  },
  {
   "cell_type": "markdown",
   "id": "9295e44c",
   "metadata": {
    "papermill": {
     "duration": 0.018064,
     "end_time": "2023-10-22T13:58:00.084145",
     "exception": false,
     "start_time": "2023-10-22T13:58:00.066081",
     "status": "completed"
    },
    "tags": []
   },
   "source": [
    "**Keywords of both disaster and other indicating similar kind of words.**"
   ]
  },
  {
   "cell_type": "markdown",
   "id": "d64b026f",
   "metadata": {
    "papermill": {
     "duration": 0.018854,
     "end_time": "2023-10-22T13:58:00.121630",
     "exception": false,
     "start_time": "2023-10-22T13:58:00.102776",
     "status": "completed"
    },
    "tags": []
   },
   "source": [
    "### Building a simple classifier using Tf-Idf vectors"
   ]
  },
  {
   "cell_type": "markdown",
   "id": "6c21d895",
   "metadata": {},
   "source": [
    "- Terms can be single word or n-grams. In this approach we will use n-grams upto 3 grams."
   ]
  },
  {
   "cell_type": "code",
   "execution_count": 19,
   "id": "cec9daa6",
   "metadata": {
    "execution": {
     "iopub.execute_input": "2023-10-22T13:58:02.042501Z",
     "iopub.status.busy": "2023-10-22T13:58:02.042066Z",
     "iopub.status.idle": "2023-10-22T13:58:02.047905Z",
     "shell.execute_reply": "2023-10-22T13:58:02.046750Z"
    },
    "papermill": {
     "duration": 0.028054,
     "end_time": "2023-10-22T13:58:02.050135",
     "exception": false,
     "start_time": "2023-10-22T13:58:02.022081",
     "status": "completed"
    },
    "tags": []
   },
   "outputs": [],
   "source": [
    "vectorizer = TfidfVectorizer(ngram_range=(1,3),max_features=10000)"
   ]
  },
  {
   "cell_type": "markdown",
   "id": "b064ee96",
   "metadata": {
    "papermill": {
     "duration": 0.018192,
     "end_time": "2023-10-22T13:58:02.086861",
     "exception": false,
     "start_time": "2023-10-22T13:58:02.068669",
     "status": "completed"
    },
    "tags": []
   },
   "source": [
    "- We will be using cross validation technique to identify the best parameters of our model, so not splitting the data into train & validation sets explicitly"
   ]
  },
  {
   "cell_type": "code",
   "execution_count": 20,
   "id": "f49771e5",
   "metadata": {
    "execution": {
     "iopub.execute_input": "2023-10-22T13:58:02.127416Z",
     "iopub.status.busy": "2023-10-22T13:58:02.125205Z",
     "iopub.status.idle": "2023-10-22T13:58:03.295098Z",
     "shell.execute_reply": "2023-10-22T13:58:03.293790Z"
    },
    "papermill": {
     "duration": 1.192564,
     "end_time": "2023-10-22T13:58:03.297972",
     "exception": false,
     "start_time": "2023-10-22T13:58:02.105408",
     "status": "completed"
    },
    "tags": []
   },
   "outputs": [],
   "source": [
    "X = vectorizer.fit_transform(train_df['text'])"
   ]
  },
  {
   "cell_type": "code",
   "execution_count": 21,
   "id": "a45fefae",
   "metadata": {
    "execution": {
     "iopub.execute_input": "2023-10-22T13:58:03.337297Z",
     "iopub.status.busy": "2023-10-22T13:58:03.336824Z",
     "iopub.status.idle": "2023-10-22T13:58:03.342990Z",
     "shell.execute_reply": "2023-10-22T13:58:03.341452Z"
    },
    "papermill": {
     "duration": 0.029146,
     "end_time": "2023-10-22T13:58:03.345722",
     "exception": false,
     "start_time": "2023-10-22T13:58:03.316576",
     "status": "completed"
    },
    "tags": []
   },
   "outputs": [],
   "source": [
    "y = train_df['target']"
   ]
  },
  {
   "cell_type": "markdown",
   "id": "b17abf4c",
   "metadata": {
    "papermill": {
     "duration": 0.020409,
     "end_time": "2023-10-22T13:58:03.386006",
     "exception": false,
     "start_time": "2023-10-22T13:58:03.365597",
     "status": "completed"
    },
    "tags": []
   },
   "source": [
    "**Testing Gradient boosting classifier.**"
   ]
  },
  {
   "cell_type": "code",
   "execution_count": 22,
   "id": "a70a49b3",
   "metadata": {
    "execution": {
     "iopub.execute_input": "2023-10-22T13:58:03.435613Z",
     "iopub.status.busy": "2023-10-22T13:58:03.434774Z",
     "iopub.status.idle": "2023-10-22T13:58:03.440276Z",
     "shell.execute_reply": "2023-10-22T13:58:03.439063Z"
    },
    "papermill": {
     "duration": 0.033455,
     "end_time": "2023-10-22T13:58:03.442652",
     "exception": false,
     "start_time": "2023-10-22T13:58:03.409197",
     "status": "completed"
    },
    "tags": []
   },
   "outputs": [],
   "source": [
    "gbc = GradientBoostingClassifier(random_state=42)"
   ]
  },
  {
   "cell_type": "markdown",
   "id": "efb0121d",
   "metadata": {
    "papermill": {
     "duration": 0.020256,
     "end_time": "2023-10-22T13:58:03.549064",
     "exception": false,
     "start_time": "2023-10-22T13:58:03.528808",
     "status": "completed"
    },
    "tags": []
   },
   "source": [
    "- We will be tuning 2 improtant hyper parameters\n",
    "    - Number of estimators  - Indicates number of successive iterations of decision trees.\n",
    "    - Max depth - Indicates complexity of individual decision tree.\n",
    "- We will be using F1 score as the metric for tuning our model"
   ]
  },
  {
   "cell_type": "code",
   "execution_count": 23,
   "id": "7f19c001",
   "metadata": {
    "execution": {
     "iopub.execute_input": "2023-10-22T13:58:03.499520Z",
     "iopub.status.busy": "2023-10-22T13:58:03.498785Z",
     "iopub.status.idle": "2023-10-22T13:58:03.505151Z",
     "shell.execute_reply": "2023-10-22T13:58:03.503869Z"
    },
    "papermill": {
     "duration": 0.037903,
     "end_time": "2023-10-22T13:58:03.507560",
     "exception": false,
     "start_time": "2023-10-22T13:58:03.469657",
     "status": "completed"
    },
    "tags": []
   },
   "outputs": [],
   "source": [
    "params_grid = {\n",
    "    \"n_estimators\":[100,200,300,400,500],\n",
    "    \"max_depth\":[3,5,10]\n",
    "}"
   ]
  },
  {
   "cell_type": "code",
   "execution_count": 24,
   "id": "646ff0b6",
   "metadata": {
    "execution": {
     "iopub.execute_input": "2023-10-22T13:58:03.589338Z",
     "iopub.status.busy": "2023-10-22T13:58:03.588276Z",
     "iopub.status.idle": "2023-10-22T13:58:03.593089Z",
     "shell.execute_reply": "2023-10-22T13:58:03.592267Z"
    },
    "papermill": {
     "duration": 0.027429,
     "end_time": "2023-10-22T13:58:03.595455",
     "exception": false,
     "start_time": "2023-10-22T13:58:03.568026",
     "status": "completed"
    },
    "tags": []
   },
   "outputs": [],
   "source": [
    "f1 = make_scorer(f1_score , average='macro')"
   ]
  },
  {
   "cell_type": "code",
   "execution_count": 25,
   "id": "eb82ce0a",
   "metadata": {
    "execution": {
     "iopub.execute_input": "2023-10-22T13:58:03.635842Z",
     "iopub.status.busy": "2023-10-22T13:58:03.635199Z",
     "iopub.status.idle": "2023-10-22T13:58:03.639801Z",
     "shell.execute_reply": "2023-10-22T13:58:03.638958Z"
    },
    "papermill": {
     "duration": 0.027567,
     "end_time": "2023-10-22T13:58:03.641950",
     "exception": false,
     "start_time": "2023-10-22T13:58:03.614383",
     "status": "completed"
    },
    "tags": []
   },
   "outputs": [],
   "source": [
    "gcv = GridSearchCV(estimator = gbc, \n",
    "             param_grid = params_grid, \n",
    "             cv = 3, \n",
    "             n_jobs = -1, \n",
    "             verbose = 4,\n",
    "             scoring=f1)"
   ]
  },
  {
   "cell_type": "code",
   "execution_count": 26,
   "id": "6487645a",
   "metadata": {
    "execution": {
     "iopub.execute_input": "2023-10-22T13:58:03.681290Z",
     "iopub.status.busy": "2023-10-22T13:58:03.680652Z",
     "iopub.status.idle": "2023-10-22T14:06:17.652426Z",
     "shell.execute_reply": "2023-10-22T14:06:17.650999Z"
    },
    "papermill": {
     "duration": 494.012069,
     "end_time": "2023-10-22T14:06:17.672410",
     "exception": false,
     "start_time": "2023-10-22T13:58:03.660341",
     "status": "completed"
    },
    "tags": []
   },
   "outputs": [
    {
     "name": "stdout",
     "output_type": "stream",
     "text": [
      "Fitting 3 folds for each of 15 candidates, totalling 45 fits\n"
     ]
    },
    {
     "data": {
      "text/html": [
       "<style>#sk-container-id-1 {color: black;background-color: white;}#sk-container-id-1 pre{padding: 0;}#sk-container-id-1 div.sk-toggleable {background-color: white;}#sk-container-id-1 label.sk-toggleable__label {cursor: pointer;display: block;width: 100%;margin-bottom: 0;padding: 0.3em;box-sizing: border-box;text-align: center;}#sk-container-id-1 label.sk-toggleable__label-arrow:before {content: \"▸\";float: left;margin-right: 0.25em;color: #696969;}#sk-container-id-1 label.sk-toggleable__label-arrow:hover:before {color: black;}#sk-container-id-1 div.sk-estimator:hover label.sk-toggleable__label-arrow:before {color: black;}#sk-container-id-1 div.sk-toggleable__content {max-height: 0;max-width: 0;overflow: hidden;text-align: left;background-color: #f0f8ff;}#sk-container-id-1 div.sk-toggleable__content pre {margin: 0.2em;color: black;border-radius: 0.25em;background-color: #f0f8ff;}#sk-container-id-1 input.sk-toggleable__control:checked~div.sk-toggleable__content {max-height: 200px;max-width: 100%;overflow: auto;}#sk-container-id-1 input.sk-toggleable__control:checked~label.sk-toggleable__label-arrow:before {content: \"▾\";}#sk-container-id-1 div.sk-estimator input.sk-toggleable__control:checked~label.sk-toggleable__label {background-color: #d4ebff;}#sk-container-id-1 div.sk-label input.sk-toggleable__control:checked~label.sk-toggleable__label {background-color: #d4ebff;}#sk-container-id-1 input.sk-hidden--visually {border: 0;clip: rect(1px 1px 1px 1px);clip: rect(1px, 1px, 1px, 1px);height: 1px;margin: -1px;overflow: hidden;padding: 0;position: absolute;width: 1px;}#sk-container-id-1 div.sk-estimator {font-family: monospace;background-color: #f0f8ff;border: 1px dotted black;border-radius: 0.25em;box-sizing: border-box;margin-bottom: 0.5em;}#sk-container-id-1 div.sk-estimator:hover {background-color: #d4ebff;}#sk-container-id-1 div.sk-parallel-item::after {content: \"\";width: 100%;border-bottom: 1px solid gray;flex-grow: 1;}#sk-container-id-1 div.sk-label:hover label.sk-toggleable__label {background-color: #d4ebff;}#sk-container-id-1 div.sk-serial::before {content: \"\";position: absolute;border-left: 1px solid gray;box-sizing: border-box;top: 0;bottom: 0;left: 50%;z-index: 0;}#sk-container-id-1 div.sk-serial {display: flex;flex-direction: column;align-items: center;background-color: white;padding-right: 0.2em;padding-left: 0.2em;position: relative;}#sk-container-id-1 div.sk-item {position: relative;z-index: 1;}#sk-container-id-1 div.sk-parallel {display: flex;align-items: stretch;justify-content: center;background-color: white;position: relative;}#sk-container-id-1 div.sk-item::before, #sk-container-id-1 div.sk-parallel-item::before {content: \"\";position: absolute;border-left: 1px solid gray;box-sizing: border-box;top: 0;bottom: 0;left: 50%;z-index: -1;}#sk-container-id-1 div.sk-parallel-item {display: flex;flex-direction: column;z-index: 1;position: relative;background-color: white;}#sk-container-id-1 div.sk-parallel-item:first-child::after {align-self: flex-end;width: 50%;}#sk-container-id-1 div.sk-parallel-item:last-child::after {align-self: flex-start;width: 50%;}#sk-container-id-1 div.sk-parallel-item:only-child::after {width: 0;}#sk-container-id-1 div.sk-dashed-wrapped {border: 1px dashed gray;margin: 0 0.4em 0.5em 0.4em;box-sizing: border-box;padding-bottom: 0.4em;background-color: white;}#sk-container-id-1 div.sk-label label {font-family: monospace;font-weight: bold;display: inline-block;line-height: 1.2em;}#sk-container-id-1 div.sk-label-container {text-align: center;}#sk-container-id-1 div.sk-container {/* jupyter's `normalize.less` sets `[hidden] { display: none; }` but bootstrap.min.css set `[hidden] { display: none !important; }` so we also need the `!important` here to be able to override the default hidden behavior on the sphinx rendered scikit-learn.org. See: https://github.com/scikit-learn/scikit-learn/issues/21755 */display: inline-block !important;position: relative;}#sk-container-id-1 div.sk-text-repr-fallback {display: none;}</style><div id=\"sk-container-id-1\" class=\"sk-top-container\"><div class=\"sk-text-repr-fallback\"><pre>GridSearchCV(cv=3, estimator=GradientBoostingClassifier(random_state=42),\n",
       "             n_jobs=-1,\n",
       "             param_grid={&#x27;max_depth&#x27;: [3, 5, 10],\n",
       "                         &#x27;n_estimators&#x27;: [100, 200, 300, 400, 500]},\n",
       "             scoring=make_scorer(f1_score, average=macro), verbose=4)</pre><b>In a Jupyter environment, please rerun this cell to show the HTML representation or trust the notebook. <br />On GitHub, the HTML representation is unable to render, please try loading this page with nbviewer.org.</b></div><div class=\"sk-container\" hidden><div class=\"sk-item sk-dashed-wrapped\"><div class=\"sk-label-container\"><div class=\"sk-label sk-toggleable\"><input class=\"sk-toggleable__control sk-hidden--visually\" id=\"sk-estimator-id-1\" type=\"checkbox\" ><label for=\"sk-estimator-id-1\" class=\"sk-toggleable__label sk-toggleable__label-arrow\">GridSearchCV</label><div class=\"sk-toggleable__content\"><pre>GridSearchCV(cv=3, estimator=GradientBoostingClassifier(random_state=42),\n",
       "             n_jobs=-1,\n",
       "             param_grid={&#x27;max_depth&#x27;: [3, 5, 10],\n",
       "                         &#x27;n_estimators&#x27;: [100, 200, 300, 400, 500]},\n",
       "             scoring=make_scorer(f1_score, average=macro), verbose=4)</pre></div></div></div><div class=\"sk-parallel\"><div class=\"sk-parallel-item\"><div class=\"sk-item\"><div class=\"sk-label-container\"><div class=\"sk-label sk-toggleable\"><input class=\"sk-toggleable__control sk-hidden--visually\" id=\"sk-estimator-id-2\" type=\"checkbox\" ><label for=\"sk-estimator-id-2\" class=\"sk-toggleable__label sk-toggleable__label-arrow\">estimator: GradientBoostingClassifier</label><div class=\"sk-toggleable__content\"><pre>GradientBoostingClassifier(random_state=42)</pre></div></div></div><div class=\"sk-serial\"><div class=\"sk-item\"><div class=\"sk-estimator sk-toggleable\"><input class=\"sk-toggleable__control sk-hidden--visually\" id=\"sk-estimator-id-3\" type=\"checkbox\" ><label for=\"sk-estimator-id-3\" class=\"sk-toggleable__label sk-toggleable__label-arrow\">GradientBoostingClassifier</label><div class=\"sk-toggleable__content\"><pre>GradientBoostingClassifier(random_state=42)</pre></div></div></div></div></div></div></div></div></div></div>"
      ],
      "text/plain": [
       "GridSearchCV(cv=3, estimator=GradientBoostingClassifier(random_state=42),\n",
       "             n_jobs=-1,\n",
       "             param_grid={'max_depth': [3, 5, 10],\n",
       "                         'n_estimators': [100, 200, 300, 400, 500]},\n",
       "             scoring=make_scorer(f1_score, average=macro), verbose=4)"
      ]
     },
     "execution_count": 26,
     "metadata": {},
     "output_type": "execute_result"
    }
   ],
   "source": [
    "gcv.fit(X,y)"
   ]
  },
  {
   "cell_type": "code",
   "execution_count": 27,
   "id": "05144712",
   "metadata": {
    "execution": {
     "iopub.execute_input": "2023-10-22T14:06:17.713526Z",
     "iopub.status.busy": "2023-10-22T14:06:17.713093Z",
     "iopub.status.idle": "2023-10-22T14:06:17.719624Z",
     "shell.execute_reply": "2023-10-22T14:06:17.718115Z"
    },
    "papermill": {
     "duration": 0.031132,
     "end_time": "2023-10-22T14:06:17.722371",
     "exception": false,
     "start_time": "2023-10-22T14:06:17.691239",
     "status": "completed"
    },
    "tags": []
   },
   "outputs": [
    {
     "name": "stdout",
     "output_type": "stream",
     "text": [
      "Best F1 score :  0.6847480964443878\n"
     ]
    }
   ],
   "source": [
    "print(\"Best F1 score : \", gcv.best_score_)"
   ]
  },
  {
   "cell_type": "markdown",
   "id": "39ea61f5",
   "metadata": {
    "papermill": {
     "duration": 0.019561,
     "end_time": "2023-10-22T14:06:17.761347",
     "exception": false,
     "start_time": "2023-10-22T14:06:17.741786",
     "status": "completed"
    },
    "tags": []
   },
   "source": [
    "**Trying out Random Forest classifier**"
   ]
  },
  {
   "cell_type": "code",
   "execution_count": 28,
   "id": "322d37ca",
   "metadata": {
    "execution": {
     "iopub.execute_input": "2023-10-22T14:06:17.802969Z",
     "iopub.status.busy": "2023-10-22T14:06:17.801984Z",
     "iopub.status.idle": "2023-10-22T14:06:17.808297Z",
     "shell.execute_reply": "2023-10-22T14:06:17.806537Z"
    },
    "papermill": {
     "duration": 0.030097,
     "end_time": "2023-10-22T14:06:17.811236",
     "exception": false,
     "start_time": "2023-10-22T14:06:17.781139",
     "status": "completed"
    },
    "tags": []
   },
   "outputs": [],
   "source": [
    "rf = RandomForestClassifier(random_state=42)"
   ]
  },
  {
   "cell_type": "code",
   "execution_count": 29,
   "id": "bd4933a1",
   "metadata": {
    "execution": {
     "iopub.execute_input": "2023-10-22T14:06:17.851512Z",
     "iopub.status.busy": "2023-10-22T14:06:17.850955Z",
     "iopub.status.idle": "2023-10-22T14:06:17.856611Z",
     "shell.execute_reply": "2023-10-22T14:06:17.855685Z"
    },
    "papermill": {
     "duration": 0.028375,
     "end_time": "2023-10-22T14:06:17.858772",
     "exception": false,
     "start_time": "2023-10-22T14:06:17.830397",
     "status": "completed"
    },
    "tags": []
   },
   "outputs": [],
   "source": [
    "gcv_rf = GridSearchCV(estimator = rf, \n",
    "             param_grid = params_grid, \n",
    "             cv = 3, \n",
    "             n_jobs = -1, \n",
    "             verbose = 4,\n",
    "             scoring=f1)"
   ]
  },
  {
   "cell_type": "code",
   "execution_count": 30,
   "id": "d7373752",
   "metadata": {
    "execution": {
     "iopub.execute_input": "2023-10-22T14:06:17.899058Z",
     "iopub.status.busy": "2023-10-22T14:06:17.897975Z",
     "iopub.status.idle": "2023-10-22T14:06:48.879690Z",
     "shell.execute_reply": "2023-10-22T14:06:48.878527Z"
    },
    "papermill": {
     "duration": 31.023135,
     "end_time": "2023-10-22T14:06:48.900838",
     "exception": false,
     "start_time": "2023-10-22T14:06:17.877703",
     "status": "completed"
    },
    "tags": []
   },
   "outputs": [
    {
     "name": "stdout",
     "output_type": "stream",
     "text": [
      "Fitting 3 folds for each of 15 candidates, totalling 45 fits\n"
     ]
    },
    {
     "data": {
      "text/html": [
       "<style>#sk-container-id-2 {color: black;background-color: white;}#sk-container-id-2 pre{padding: 0;}#sk-container-id-2 div.sk-toggleable {background-color: white;}#sk-container-id-2 label.sk-toggleable__label {cursor: pointer;display: block;width: 100%;margin-bottom: 0;padding: 0.3em;box-sizing: border-box;text-align: center;}#sk-container-id-2 label.sk-toggleable__label-arrow:before {content: \"▸\";float: left;margin-right: 0.25em;color: #696969;}#sk-container-id-2 label.sk-toggleable__label-arrow:hover:before {color: black;}#sk-container-id-2 div.sk-estimator:hover label.sk-toggleable__label-arrow:before {color: black;}#sk-container-id-2 div.sk-toggleable__content {max-height: 0;max-width: 0;overflow: hidden;text-align: left;background-color: #f0f8ff;}#sk-container-id-2 div.sk-toggleable__content pre {margin: 0.2em;color: black;border-radius: 0.25em;background-color: #f0f8ff;}#sk-container-id-2 input.sk-toggleable__control:checked~div.sk-toggleable__content {max-height: 200px;max-width: 100%;overflow: auto;}#sk-container-id-2 input.sk-toggleable__control:checked~label.sk-toggleable__label-arrow:before {content: \"▾\";}#sk-container-id-2 div.sk-estimator input.sk-toggleable__control:checked~label.sk-toggleable__label {background-color: #d4ebff;}#sk-container-id-2 div.sk-label input.sk-toggleable__control:checked~label.sk-toggleable__label {background-color: #d4ebff;}#sk-container-id-2 input.sk-hidden--visually {border: 0;clip: rect(1px 1px 1px 1px);clip: rect(1px, 1px, 1px, 1px);height: 1px;margin: -1px;overflow: hidden;padding: 0;position: absolute;width: 1px;}#sk-container-id-2 div.sk-estimator {font-family: monospace;background-color: #f0f8ff;border: 1px dotted black;border-radius: 0.25em;box-sizing: border-box;margin-bottom: 0.5em;}#sk-container-id-2 div.sk-estimator:hover {background-color: #d4ebff;}#sk-container-id-2 div.sk-parallel-item::after {content: \"\";width: 100%;border-bottom: 1px solid gray;flex-grow: 1;}#sk-container-id-2 div.sk-label:hover label.sk-toggleable__label {background-color: #d4ebff;}#sk-container-id-2 div.sk-serial::before {content: \"\";position: absolute;border-left: 1px solid gray;box-sizing: border-box;top: 0;bottom: 0;left: 50%;z-index: 0;}#sk-container-id-2 div.sk-serial {display: flex;flex-direction: column;align-items: center;background-color: white;padding-right: 0.2em;padding-left: 0.2em;position: relative;}#sk-container-id-2 div.sk-item {position: relative;z-index: 1;}#sk-container-id-2 div.sk-parallel {display: flex;align-items: stretch;justify-content: center;background-color: white;position: relative;}#sk-container-id-2 div.sk-item::before, #sk-container-id-2 div.sk-parallel-item::before {content: \"\";position: absolute;border-left: 1px solid gray;box-sizing: border-box;top: 0;bottom: 0;left: 50%;z-index: -1;}#sk-container-id-2 div.sk-parallel-item {display: flex;flex-direction: column;z-index: 1;position: relative;background-color: white;}#sk-container-id-2 div.sk-parallel-item:first-child::after {align-self: flex-end;width: 50%;}#sk-container-id-2 div.sk-parallel-item:last-child::after {align-self: flex-start;width: 50%;}#sk-container-id-2 div.sk-parallel-item:only-child::after {width: 0;}#sk-container-id-2 div.sk-dashed-wrapped {border: 1px dashed gray;margin: 0 0.4em 0.5em 0.4em;box-sizing: border-box;padding-bottom: 0.4em;background-color: white;}#sk-container-id-2 div.sk-label label {font-family: monospace;font-weight: bold;display: inline-block;line-height: 1.2em;}#sk-container-id-2 div.sk-label-container {text-align: center;}#sk-container-id-2 div.sk-container {/* jupyter's `normalize.less` sets `[hidden] { display: none; }` but bootstrap.min.css set `[hidden] { display: none !important; }` so we also need the `!important` here to be able to override the default hidden behavior on the sphinx rendered scikit-learn.org. See: https://github.com/scikit-learn/scikit-learn/issues/21755 */display: inline-block !important;position: relative;}#sk-container-id-2 div.sk-text-repr-fallback {display: none;}</style><div id=\"sk-container-id-2\" class=\"sk-top-container\"><div class=\"sk-text-repr-fallback\"><pre>GridSearchCV(cv=3, estimator=RandomForestClassifier(random_state=42), n_jobs=-1,\n",
       "             param_grid={&#x27;max_depth&#x27;: [3, 5, 10],\n",
       "                         &#x27;n_estimators&#x27;: [100, 200, 300, 400, 500]},\n",
       "             scoring=make_scorer(f1_score, average=macro), verbose=4)</pre><b>In a Jupyter environment, please rerun this cell to show the HTML representation or trust the notebook. <br />On GitHub, the HTML representation is unable to render, please try loading this page with nbviewer.org.</b></div><div class=\"sk-container\" hidden><div class=\"sk-item sk-dashed-wrapped\"><div class=\"sk-label-container\"><div class=\"sk-label sk-toggleable\"><input class=\"sk-toggleable__control sk-hidden--visually\" id=\"sk-estimator-id-4\" type=\"checkbox\" ><label for=\"sk-estimator-id-4\" class=\"sk-toggleable__label sk-toggleable__label-arrow\">GridSearchCV</label><div class=\"sk-toggleable__content\"><pre>GridSearchCV(cv=3, estimator=RandomForestClassifier(random_state=42), n_jobs=-1,\n",
       "             param_grid={&#x27;max_depth&#x27;: [3, 5, 10],\n",
       "                         &#x27;n_estimators&#x27;: [100, 200, 300, 400, 500]},\n",
       "             scoring=make_scorer(f1_score, average=macro), verbose=4)</pre></div></div></div><div class=\"sk-parallel\"><div class=\"sk-parallel-item\"><div class=\"sk-item\"><div class=\"sk-label-container\"><div class=\"sk-label sk-toggleable\"><input class=\"sk-toggleable__control sk-hidden--visually\" id=\"sk-estimator-id-5\" type=\"checkbox\" ><label for=\"sk-estimator-id-5\" class=\"sk-toggleable__label sk-toggleable__label-arrow\">estimator: RandomForestClassifier</label><div class=\"sk-toggleable__content\"><pre>RandomForestClassifier(random_state=42)</pre></div></div></div><div class=\"sk-serial\"><div class=\"sk-item\"><div class=\"sk-estimator sk-toggleable\"><input class=\"sk-toggleable__control sk-hidden--visually\" id=\"sk-estimator-id-6\" type=\"checkbox\" ><label for=\"sk-estimator-id-6\" class=\"sk-toggleable__label sk-toggleable__label-arrow\">RandomForestClassifier</label><div class=\"sk-toggleable__content\"><pre>RandomForestClassifier(random_state=42)</pre></div></div></div></div></div></div></div></div></div></div>"
      ],
      "text/plain": [
       "GridSearchCV(cv=3, estimator=RandomForestClassifier(random_state=42), n_jobs=-1,\n",
       "             param_grid={'max_depth': [3, 5, 10],\n",
       "                         'n_estimators': [100, 200, 300, 400, 500]},\n",
       "             scoring=make_scorer(f1_score, average=macro), verbose=4)"
      ]
     },
     "execution_count": 30,
     "metadata": {},
     "output_type": "execute_result"
    }
   ],
   "source": [
    "gcv_rf.fit(X,y)"
   ]
  },
  {
   "cell_type": "code",
   "execution_count": 31,
   "id": "5c090336",
   "metadata": {
    "execution": {
     "iopub.execute_input": "2023-10-22T14:06:48.941833Z",
     "iopub.status.busy": "2023-10-22T14:06:48.941067Z",
     "iopub.status.idle": "2023-10-22T14:06:48.946734Z",
     "shell.execute_reply": "2023-10-22T14:06:48.945337Z"
    },
    "papermill": {
     "duration": 0.028958,
     "end_time": "2023-10-22T14:06:48.949066",
     "exception": false,
     "start_time": "2023-10-22T14:06:48.920108",
     "status": "completed"
    },
    "tags": []
   },
   "outputs": [
    {
     "name": "stdout",
     "output_type": "stream",
     "text": [
      "Best F1 score :  0.4739887854271538\n"
     ]
    }
   ],
   "source": [
    "print(\"Best F1 score : \", gcv_rf.best_score_)"
   ]
  },
  {
   "cell_type": "markdown",
   "id": "2e5aec26",
   "metadata": {
    "papermill": {
     "duration": 0.020804,
     "end_time": "2023-10-22T14:06:48.989702",
     "exception": false,
     "start_time": "2023-10-22T14:06:48.968898",
     "status": "completed"
    },
    "tags": []
   },
   "source": [
    "**It looks like Gradient boosting is giving better results**"
   ]
  },
  {
   "cell_type": "code",
   "execution_count": 32,
   "id": "03a548d7",
   "metadata": {
    "execution": {
     "iopub.execute_input": "2023-10-22T14:06:49.030638Z",
     "iopub.status.busy": "2023-10-22T14:06:49.029626Z",
     "iopub.status.idle": "2023-10-22T14:06:49.237924Z",
     "shell.execute_reply": "2023-10-22T14:06:49.236505Z"
    },
    "papermill": {
     "duration": 0.232399,
     "end_time": "2023-10-22T14:06:49.241390",
     "exception": false,
     "start_time": "2023-10-22T14:06:49.008991",
     "status": "completed"
    },
    "tags": []
   },
   "outputs": [],
   "source": [
    "from xgboost import XGBClassifier"
   ]
  },
  {
   "cell_type": "code",
   "execution_count": 33,
   "id": "a064d824",
   "metadata": {
    "execution": {
     "iopub.execute_input": "2023-10-22T14:06:49.283863Z",
     "iopub.status.busy": "2023-10-22T14:06:49.283151Z",
     "iopub.status.idle": "2023-10-22T14:06:49.288994Z",
     "shell.execute_reply": "2023-10-22T14:06:49.287768Z"
    },
    "papermill": {
     "duration": 0.030078,
     "end_time": "2023-10-22T14:06:49.291680",
     "exception": false,
     "start_time": "2023-10-22T14:06:49.261602",
     "status": "completed"
    },
    "tags": []
   },
   "outputs": [],
   "source": [
    "xgb = XGBClassifier(random_state=42)"
   ]
  },
  {
   "cell_type": "code",
   "execution_count": 34,
   "id": "3b18b612",
   "metadata": {
    "execution": {
     "iopub.execute_input": "2023-10-22T14:06:49.332870Z",
     "iopub.status.busy": "2023-10-22T14:06:49.332422Z",
     "iopub.status.idle": "2023-10-22T14:06:49.337571Z",
     "shell.execute_reply": "2023-10-22T14:06:49.336691Z"
    },
    "papermill": {
     "duration": 0.028224,
     "end_time": "2023-10-22T14:06:49.339696",
     "exception": false,
     "start_time": "2023-10-22T14:06:49.311472",
     "status": "completed"
    },
    "tags": []
   },
   "outputs": [],
   "source": [
    "gcv_xgb = GridSearchCV(estimator = xgb, \n",
    "             param_grid = params_grid, \n",
    "             cv = 3, \n",
    "             n_jobs = -1, \n",
    "             verbose = 4,\n",
    "             scoring=f1)"
   ]
  },
  {
   "cell_type": "code",
   "execution_count": 35,
   "id": "bacc5c58",
   "metadata": {
    "execution": {
     "iopub.execute_input": "2023-10-22T14:06:49.380419Z",
     "iopub.status.busy": "2023-10-22T14:06:49.379954Z",
     "iopub.status.idle": "2023-10-22T14:10:54.481444Z",
     "shell.execute_reply": "2023-10-22T14:10:54.480375Z"
    },
    "papermill": {
     "duration": 245.144128,
     "end_time": "2023-10-22T14:10:54.503292",
     "exception": false,
     "start_time": "2023-10-22T14:06:49.359164",
     "status": "completed"
    },
    "tags": []
   },
   "outputs": [
    {
     "name": "stdout",
     "output_type": "stream",
     "text": [
      "Fitting 3 folds for each of 15 candidates, totalling 45 fits\n"
     ]
    },
    {
     "data": {
      "text/html": [
       "<style>#sk-container-id-3 {color: black;background-color: white;}#sk-container-id-3 pre{padding: 0;}#sk-container-id-3 div.sk-toggleable {background-color: white;}#sk-container-id-3 label.sk-toggleable__label {cursor: pointer;display: block;width: 100%;margin-bottom: 0;padding: 0.3em;box-sizing: border-box;text-align: center;}#sk-container-id-3 label.sk-toggleable__label-arrow:before {content: \"▸\";float: left;margin-right: 0.25em;color: #696969;}#sk-container-id-3 label.sk-toggleable__label-arrow:hover:before {color: black;}#sk-container-id-3 div.sk-estimator:hover label.sk-toggleable__label-arrow:before {color: black;}#sk-container-id-3 div.sk-toggleable__content {max-height: 0;max-width: 0;overflow: hidden;text-align: left;background-color: #f0f8ff;}#sk-container-id-3 div.sk-toggleable__content pre {margin: 0.2em;color: black;border-radius: 0.25em;background-color: #f0f8ff;}#sk-container-id-3 input.sk-toggleable__control:checked~div.sk-toggleable__content {max-height: 200px;max-width: 100%;overflow: auto;}#sk-container-id-3 input.sk-toggleable__control:checked~label.sk-toggleable__label-arrow:before {content: \"▾\";}#sk-container-id-3 div.sk-estimator input.sk-toggleable__control:checked~label.sk-toggleable__label {background-color: #d4ebff;}#sk-container-id-3 div.sk-label input.sk-toggleable__control:checked~label.sk-toggleable__label {background-color: #d4ebff;}#sk-container-id-3 input.sk-hidden--visually {border: 0;clip: rect(1px 1px 1px 1px);clip: rect(1px, 1px, 1px, 1px);height: 1px;margin: -1px;overflow: hidden;padding: 0;position: absolute;width: 1px;}#sk-container-id-3 div.sk-estimator {font-family: monospace;background-color: #f0f8ff;border: 1px dotted black;border-radius: 0.25em;box-sizing: border-box;margin-bottom: 0.5em;}#sk-container-id-3 div.sk-estimator:hover {background-color: #d4ebff;}#sk-container-id-3 div.sk-parallel-item::after {content: \"\";width: 100%;border-bottom: 1px solid gray;flex-grow: 1;}#sk-container-id-3 div.sk-label:hover label.sk-toggleable__label {background-color: #d4ebff;}#sk-container-id-3 div.sk-serial::before {content: \"\";position: absolute;border-left: 1px solid gray;box-sizing: border-box;top: 0;bottom: 0;left: 50%;z-index: 0;}#sk-container-id-3 div.sk-serial {display: flex;flex-direction: column;align-items: center;background-color: white;padding-right: 0.2em;padding-left: 0.2em;position: relative;}#sk-container-id-3 div.sk-item {position: relative;z-index: 1;}#sk-container-id-3 div.sk-parallel {display: flex;align-items: stretch;justify-content: center;background-color: white;position: relative;}#sk-container-id-3 div.sk-item::before, #sk-container-id-3 div.sk-parallel-item::before {content: \"\";position: absolute;border-left: 1px solid gray;box-sizing: border-box;top: 0;bottom: 0;left: 50%;z-index: -1;}#sk-container-id-3 div.sk-parallel-item {display: flex;flex-direction: column;z-index: 1;position: relative;background-color: white;}#sk-container-id-3 div.sk-parallel-item:first-child::after {align-self: flex-end;width: 50%;}#sk-container-id-3 div.sk-parallel-item:last-child::after {align-self: flex-start;width: 50%;}#sk-container-id-3 div.sk-parallel-item:only-child::after {width: 0;}#sk-container-id-3 div.sk-dashed-wrapped {border: 1px dashed gray;margin: 0 0.4em 0.5em 0.4em;box-sizing: border-box;padding-bottom: 0.4em;background-color: white;}#sk-container-id-3 div.sk-label label {font-family: monospace;font-weight: bold;display: inline-block;line-height: 1.2em;}#sk-container-id-3 div.sk-label-container {text-align: center;}#sk-container-id-3 div.sk-container {/* jupyter's `normalize.less` sets `[hidden] { display: none; }` but bootstrap.min.css set `[hidden] { display: none !important; }` so we also need the `!important` here to be able to override the default hidden behavior on the sphinx rendered scikit-learn.org. See: https://github.com/scikit-learn/scikit-learn/issues/21755 */display: inline-block !important;position: relative;}#sk-container-id-3 div.sk-text-repr-fallback {display: none;}</style><div id=\"sk-container-id-3\" class=\"sk-top-container\"><div class=\"sk-text-repr-fallback\"><pre>GridSearchCV(cv=3,\n",
       "             estimator=XGBClassifier(base_score=None, booster=None,\n",
       "                                     callbacks=None, colsample_bylevel=None,\n",
       "                                     colsample_bynode=None,\n",
       "                                     colsample_bytree=None,\n",
       "                                     early_stopping_rounds=None,\n",
       "                                     enable_categorical=False, eval_metric=None,\n",
       "                                     feature_types=None, gamma=None,\n",
       "                                     gpu_id=None, grow_policy=None,\n",
       "                                     importance_type=None,\n",
       "                                     interaction_constraints=None,\n",
       "                                     learning_rate=None,...\n",
       "                                     max_cat_to_onehot=None,\n",
       "                                     max_delta_step=None, max_depth=None,\n",
       "                                     max_leaves=None, min_child_weight=None,\n",
       "                                     missing=nan, monotone_constraints=None,\n",
       "                                     n_estimators=100, n_jobs=None,\n",
       "                                     num_parallel_tree=None, predictor=None,\n",
       "                                     random_state=42, ...),\n",
       "             n_jobs=-1,\n",
       "             param_grid={&#x27;max_depth&#x27;: [3, 5, 10],\n",
       "                         &#x27;n_estimators&#x27;: [100, 200, 300, 400, 500]},\n",
       "             scoring=make_scorer(f1_score, average=macro), verbose=4)</pre><b>In a Jupyter environment, please rerun this cell to show the HTML representation or trust the notebook. <br />On GitHub, the HTML representation is unable to render, please try loading this page with nbviewer.org.</b></div><div class=\"sk-container\" hidden><div class=\"sk-item sk-dashed-wrapped\"><div class=\"sk-label-container\"><div class=\"sk-label sk-toggleable\"><input class=\"sk-toggleable__control sk-hidden--visually\" id=\"sk-estimator-id-7\" type=\"checkbox\" ><label for=\"sk-estimator-id-7\" class=\"sk-toggleable__label sk-toggleable__label-arrow\">GridSearchCV</label><div class=\"sk-toggleable__content\"><pre>GridSearchCV(cv=3,\n",
       "             estimator=XGBClassifier(base_score=None, booster=None,\n",
       "                                     callbacks=None, colsample_bylevel=None,\n",
       "                                     colsample_bynode=None,\n",
       "                                     colsample_bytree=None,\n",
       "                                     early_stopping_rounds=None,\n",
       "                                     enable_categorical=False, eval_metric=None,\n",
       "                                     feature_types=None, gamma=None,\n",
       "                                     gpu_id=None, grow_policy=None,\n",
       "                                     importance_type=None,\n",
       "                                     interaction_constraints=None,\n",
       "                                     learning_rate=None,...\n",
       "                                     max_cat_to_onehot=None,\n",
       "                                     max_delta_step=None, max_depth=None,\n",
       "                                     max_leaves=None, min_child_weight=None,\n",
       "                                     missing=nan, monotone_constraints=None,\n",
       "                                     n_estimators=100, n_jobs=None,\n",
       "                                     num_parallel_tree=None, predictor=None,\n",
       "                                     random_state=42, ...),\n",
       "             n_jobs=-1,\n",
       "             param_grid={&#x27;max_depth&#x27;: [3, 5, 10],\n",
       "                         &#x27;n_estimators&#x27;: [100, 200, 300, 400, 500]},\n",
       "             scoring=make_scorer(f1_score, average=macro), verbose=4)</pre></div></div></div><div class=\"sk-parallel\"><div class=\"sk-parallel-item\"><div class=\"sk-item\"><div class=\"sk-label-container\"><div class=\"sk-label sk-toggleable\"><input class=\"sk-toggleable__control sk-hidden--visually\" id=\"sk-estimator-id-8\" type=\"checkbox\" ><label for=\"sk-estimator-id-8\" class=\"sk-toggleable__label sk-toggleable__label-arrow\">estimator: XGBClassifier</label><div class=\"sk-toggleable__content\"><pre>XGBClassifier(base_score=None, booster=None, callbacks=None,\n",
       "              colsample_bylevel=None, colsample_bynode=None,\n",
       "              colsample_bytree=None, early_stopping_rounds=None,\n",
       "              enable_categorical=False, eval_metric=None, feature_types=None,\n",
       "              gamma=None, gpu_id=None, grow_policy=None, importance_type=None,\n",
       "              interaction_constraints=None, learning_rate=None, max_bin=None,\n",
       "              max_cat_threshold=None, max_cat_to_onehot=None,\n",
       "              max_delta_step=None, max_depth=None, max_leaves=None,\n",
       "              min_child_weight=None, missing=nan, monotone_constraints=None,\n",
       "              n_estimators=100, n_jobs=None, num_parallel_tree=None,\n",
       "              predictor=None, random_state=42, ...)</pre></div></div></div><div class=\"sk-serial\"><div class=\"sk-item\"><div class=\"sk-estimator sk-toggleable\"><input class=\"sk-toggleable__control sk-hidden--visually\" id=\"sk-estimator-id-9\" type=\"checkbox\" ><label for=\"sk-estimator-id-9\" class=\"sk-toggleable__label sk-toggleable__label-arrow\">XGBClassifier</label><div class=\"sk-toggleable__content\"><pre>XGBClassifier(base_score=None, booster=None, callbacks=None,\n",
       "              colsample_bylevel=None, colsample_bynode=None,\n",
       "              colsample_bytree=None, early_stopping_rounds=None,\n",
       "              enable_categorical=False, eval_metric=None, feature_types=None,\n",
       "              gamma=None, gpu_id=None, grow_policy=None, importance_type=None,\n",
       "              interaction_constraints=None, learning_rate=None, max_bin=None,\n",
       "              max_cat_threshold=None, max_cat_to_onehot=None,\n",
       "              max_delta_step=None, max_depth=None, max_leaves=None,\n",
       "              min_child_weight=None, missing=nan, monotone_constraints=None,\n",
       "              n_estimators=100, n_jobs=None, num_parallel_tree=None,\n",
       "              predictor=None, random_state=42, ...)</pre></div></div></div></div></div></div></div></div></div></div>"
      ],
      "text/plain": [
       "GridSearchCV(cv=3,\n",
       "             estimator=XGBClassifier(base_score=None, booster=None,\n",
       "                                     callbacks=None, colsample_bylevel=None,\n",
       "                                     colsample_bynode=None,\n",
       "                                     colsample_bytree=None,\n",
       "                                     early_stopping_rounds=None,\n",
       "                                     enable_categorical=False, eval_metric=None,\n",
       "                                     feature_types=None, gamma=None,\n",
       "                                     gpu_id=None, grow_policy=None,\n",
       "                                     importance_type=None,\n",
       "                                     interaction_constraints=None,\n",
       "                                     learning_rate=None,...\n",
       "                                     max_cat_to_onehot=None,\n",
       "                                     max_delta_step=None, max_depth=None,\n",
       "                                     max_leaves=None, min_child_weight=None,\n",
       "                                     missing=nan, monotone_constraints=None,\n",
       "                                     n_estimators=100, n_jobs=None,\n",
       "                                     num_parallel_tree=None, predictor=None,\n",
       "                                     random_state=42, ...),\n",
       "             n_jobs=-1,\n",
       "             param_grid={'max_depth': [3, 5, 10],\n",
       "                         'n_estimators': [100, 200, 300, 400, 500]},\n",
       "             scoring=make_scorer(f1_score, average=macro), verbose=4)"
      ]
     },
     "execution_count": 35,
     "metadata": {},
     "output_type": "execute_result"
    }
   ],
   "source": [
    "gcv_xgb.fit(X,y)"
   ]
  },
  {
   "cell_type": "code",
   "execution_count": 36,
   "id": "5c3ed1f5",
   "metadata": {
    "execution": {
     "iopub.execute_input": "2023-10-22T14:10:54.545334Z",
     "iopub.status.busy": "2023-10-22T14:10:54.544643Z",
     "iopub.status.idle": "2023-10-22T14:10:54.549965Z",
     "shell.execute_reply": "2023-10-22T14:10:54.548992Z"
    },
    "papermill": {
     "duration": 0.029082,
     "end_time": "2023-10-22T14:10:54.552040",
     "exception": false,
     "start_time": "2023-10-22T14:10:54.522958",
     "status": "completed"
    },
    "tags": []
   },
   "outputs": [
    {
     "name": "stdout",
     "output_type": "stream",
     "text": [
      "Best F1 score :  0.6915583732223548\n"
     ]
    }
   ],
   "source": [
    "print(\"Best F1 score : \", gcv_xgb.best_score_)"
   ]
  },
  {
   "cell_type": "markdown",
   "id": "f9445cce",
   "metadata": {
    "papermill": {
     "duration": 0.019736,
     "end_time": "2023-10-22T14:10:54.591639",
     "exception": false,
     "start_time": "2023-10-22T14:10:54.571903",
     "status": "completed"
    },
    "tags": []
   },
   "source": [
    "**XGBoost seems to be giving best F1 score. So Lets go ahead with submision.**"
   ]
  },
  {
   "cell_type": "code",
   "execution_count": 37,
   "id": "13d9149f",
   "metadata": {
    "execution": {
     "iopub.execute_input": "2023-10-22T14:10:54.634244Z",
     "iopub.status.busy": "2023-10-22T14:10:54.633489Z",
     "iopub.status.idle": "2023-10-22T14:10:54.664493Z",
     "shell.execute_reply": "2023-10-22T14:10:54.663521Z"
    },
    "papermill": {
     "duration": 0.054977,
     "end_time": "2023-10-22T14:10:54.667132",
     "exception": false,
     "start_time": "2023-10-22T14:10:54.612155",
     "status": "completed"
    },
    "tags": []
   },
   "outputs": [],
   "source": [
    "test_df = pd.read_csv(test_file)"
   ]
  },
  {
   "cell_type": "code",
   "execution_count": 38,
   "id": "b3a92aae",
   "metadata": {
    "execution": {
     "iopub.execute_input": "2023-10-22T14:10:54.709646Z",
     "iopub.status.busy": "2023-10-22T14:10:54.708973Z",
     "iopub.status.idle": "2023-10-22T14:10:54.721158Z",
     "shell.execute_reply": "2023-10-22T14:10:54.719987Z"
    },
    "papermill": {
     "duration": 0.035862,
     "end_time": "2023-10-22T14:10:54.723413",
     "exception": false,
     "start_time": "2023-10-22T14:10:54.687551",
     "status": "completed"
    },
    "tags": []
   },
   "outputs": [
    {
     "data": {
      "text/html": [
       "<div>\n",
       "<style scoped>\n",
       "    .dataframe tbody tr th:only-of-type {\n",
       "        vertical-align: middle;\n",
       "    }\n",
       "\n",
       "    .dataframe tbody tr th {\n",
       "        vertical-align: top;\n",
       "    }\n",
       "\n",
       "    .dataframe thead th {\n",
       "        text-align: right;\n",
       "    }\n",
       "</style>\n",
       "<table border=\"1\" class=\"dataframe\">\n",
       "  <thead>\n",
       "    <tr style=\"text-align: right;\">\n",
       "      <th></th>\n",
       "      <th>id</th>\n",
       "      <th>keyword</th>\n",
       "      <th>location</th>\n",
       "      <th>text</th>\n",
       "    </tr>\n",
       "  </thead>\n",
       "  <tbody>\n",
       "    <tr>\n",
       "      <th>0</th>\n",
       "      <td>0</td>\n",
       "      <td>NaN</td>\n",
       "      <td>NaN</td>\n",
       "      <td>Just happened a terrible car crash</td>\n",
       "    </tr>\n",
       "    <tr>\n",
       "      <th>1</th>\n",
       "      <td>2</td>\n",
       "      <td>NaN</td>\n",
       "      <td>NaN</td>\n",
       "      <td>Heard about #earthquake is different cities, s...</td>\n",
       "    </tr>\n",
       "    <tr>\n",
       "      <th>2</th>\n",
       "      <td>3</td>\n",
       "      <td>NaN</td>\n",
       "      <td>NaN</td>\n",
       "      <td>there is a forest fire at spot pond, geese are...</td>\n",
       "    </tr>\n",
       "    <tr>\n",
       "      <th>3</th>\n",
       "      <td>9</td>\n",
       "      <td>NaN</td>\n",
       "      <td>NaN</td>\n",
       "      <td>Apocalypse lighting. #Spokane #wildfires</td>\n",
       "    </tr>\n",
       "    <tr>\n",
       "      <th>4</th>\n",
       "      <td>11</td>\n",
       "      <td>NaN</td>\n",
       "      <td>NaN</td>\n",
       "      <td>Typhoon Soudelor kills 28 in China and Taiwan</td>\n",
       "    </tr>\n",
       "  </tbody>\n",
       "</table>\n",
       "</div>"
      ],
      "text/plain": [
       "   id keyword location                                               text\n",
       "0   0     NaN      NaN                 Just happened a terrible car crash\n",
       "1   2     NaN      NaN  Heard about #earthquake is different cities, s...\n",
       "2   3     NaN      NaN  there is a forest fire at spot pond, geese are...\n",
       "3   9     NaN      NaN           Apocalypse lighting. #Spokane #wildfires\n",
       "4  11     NaN      NaN      Typhoon Soudelor kills 28 in China and Taiwan"
      ]
     },
     "execution_count": 38,
     "metadata": {},
     "output_type": "execute_result"
    }
   ],
   "source": [
    "test_df.head()"
   ]
  },
  {
   "cell_type": "code",
   "execution_count": 39,
   "id": "60e10bf0",
   "metadata": {
    "execution": {
     "iopub.execute_input": "2023-10-22T14:10:54.766365Z",
     "iopub.status.busy": "2023-10-22T14:10:54.765698Z",
     "iopub.status.idle": "2023-10-22T14:10:55.020012Z",
     "shell.execute_reply": "2023-10-22T14:10:55.018838Z"
    },
    "papermill": {
     "duration": 0.279228,
     "end_time": "2023-10-22T14:10:55.022905",
     "exception": false,
     "start_time": "2023-10-22T14:10:54.743677",
     "status": "completed"
    },
    "tags": []
   },
   "outputs": [],
   "source": [
    "predictions = gcv_xgb.predict(vectorizer.transform(test_df['text']))"
   ]
  },
  {
   "cell_type": "code",
   "execution_count": 40,
   "id": "dc76b8bd",
   "metadata": {
    "execution": {
     "iopub.execute_input": "2023-10-22T14:10:55.067001Z",
     "iopub.status.busy": "2023-10-22T14:10:55.066610Z",
     "iopub.status.idle": "2023-10-22T14:10:55.072103Z",
     "shell.execute_reply": "2023-10-22T14:10:55.070952Z"
    },
    "papermill": {
     "duration": 0.029705,
     "end_time": "2023-10-22T14:10:55.074557",
     "exception": false,
     "start_time": "2023-10-22T14:10:55.044852",
     "status": "completed"
    },
    "tags": []
   },
   "outputs": [],
   "source": [
    "test_df['target'] = predictions"
   ]
  },
  {
   "cell_type": "code",
   "execution_count": 41,
   "id": "294973ec",
   "metadata": {
    "execution": {
     "iopub.execute_input": "2023-10-22T14:10:55.119352Z",
     "iopub.status.busy": "2023-10-22T14:10:55.118035Z",
     "iopub.status.idle": "2023-10-22T14:10:55.140183Z",
     "shell.execute_reply": "2023-10-22T14:10:55.138998Z"
    },
    "papermill": {
     "duration": 0.047898,
     "end_time": "2023-10-22T14:10:55.143064",
     "exception": false,
     "start_time": "2023-10-22T14:10:55.095166",
     "status": "completed"
    },
    "tags": []
   },
   "outputs": [],
   "source": [
    "test_df[['id','target']].to_csv('/kaggle/working/submission.csv')"
   ]
  },
  {
   "cell_type": "markdown",
   "id": "c2f86344",
   "metadata": {},
   "source": [
    "***Follow my next notebook @ <a href='https://github.com/giridharmunagala/nlp_learnings/blob/main/text_classification/nlp-text-classification-word2vec.ipynb'>Word2Vec</a> for classification based on embeddings.***"
   ]
  },
  {
   "cell_type": "markdown",
   "id": "44bf0951",
   "metadata": {
    "papermill": {
     "duration": 0.01966,
     "end_time": "2023-10-22T14:10:55.183968",
     "exception": false,
     "start_time": "2023-10-22T14:10:55.164308",
     "status": "completed"
    },
    "tags": []
   },
   "source": [
    "\n",
    "### Data set Citation \n",
    "Addison Howard, devrishi, Phil Culliton, Yufeng Guo. (2019). Natural Language Processing with Disaster Tweets. Kaggle. https://kaggle.com/competitions/nlp-getting-started\n"
   ]
  }
 ],
 "metadata": {
  "kernelspec": {
   "display_name": "Python 3",
   "language": "python",
   "name": "python3"
  },
  "language_info": {
   "codemirror_mode": {
    "name": "ipython",
    "version": 3
   },
   "file_extension": ".py",
   "mimetype": "text/x-python",
   "name": "python",
   "nbconvert_exporter": "python",
   "pygments_lexer": "ipython3",
   "version": "3.10.12"
  },
  "papermill": {
   "default_parameters": {},
   "duration": 784.148797,
   "end_time": "2023-10-22T14:10:57.828618",
   "environment_variables": {},
   "exception": null,
   "input_path": "__notebook__.ipynb",
   "output_path": "__notebook__.ipynb",
   "parameters": {},
   "start_time": "2023-10-22T13:57:53.679821",
   "version": "2.4.0"
  }
 },
 "nbformat": 4,
 "nbformat_minor": 5
}
